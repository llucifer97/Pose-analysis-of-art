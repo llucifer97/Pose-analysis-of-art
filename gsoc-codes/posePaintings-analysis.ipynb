{
 "cells": [
  {
   "cell_type": "markdown",
   "metadata": {},
   "source": [
    "Only working on Bruno's machine because of file paths.\n",
    "\n",
    "To run it on an other computer, you'll need to change the pickle file's path if you doesn't have the same relative path."
   ]
  },
  {
   "cell_type": "code",
   "execution_count": 1,
   "metadata": {},
   "outputs": [],
   "source": [
    "# Pose Estimation in Paintings\n",
    "# the point of this section is to read in a big paintings dataset (the web gallery) and provide poses per image. \n",
    "# (note to self. Try training on paintings after photos and then TESTING BACK ON PHOTOS. \n",
    "# If we've learned something generalisable, it should increase our performance there too!)"
   ]
  },
  {
   "cell_type": "code",
   "execution_count": 2,
   "metadata": {},
   "outputs": [
    {
     "ename": "ImportError",
     "evalue": "No module named 'StringIO'",
     "output_type": "error",
     "traceback": [
      "\u001b[0;31m---------------------------------------------------------------------------\u001b[0m",
      "\u001b[0;31mImportError\u001b[0m                               Traceback (most recent call last)",
      "\u001b[0;32m<ipython-input-2-6c228256e1d1>\u001b[0m in \u001b[0;36m<module>\u001b[0;34m\u001b[0m\n\u001b[1;32m     18\u001b[0m \u001b[0;32mfrom\u001b[0m \u001b[0mPIL\u001b[0m \u001b[0;32mimport\u001b[0m \u001b[0mImage\u001b[0m\u001b[0;34m\u001b[0m\u001b[0m\n\u001b[1;32m     19\u001b[0m \u001b[0;32mimport\u001b[0m \u001b[0mrequests\u001b[0m\u001b[0;34m\u001b[0m\u001b[0m\n\u001b[0;32m---> 20\u001b[0;31m \u001b[0;32mfrom\u001b[0m \u001b[0mStringIO\u001b[0m \u001b[0;32mimport\u001b[0m \u001b[0mStringIO\u001b[0m\u001b[0;34m\u001b[0m\u001b[0m\n\u001b[0m\u001b[1;32m     21\u001b[0m \u001b[0;34m\u001b[0m\u001b[0m\n\u001b[1;32m     22\u001b[0m \u001b[0;32mfrom\u001b[0m \u001b[0msklearn\u001b[0m\u001b[0;34m.\u001b[0m\u001b[0mneighbors\u001b[0m \u001b[0;32mimport\u001b[0m \u001b[0mNearestNeighbors\u001b[0m\u001b[0;34m\u001b[0m\u001b[0m\n",
      "\u001b[0;31mImportError\u001b[0m: No module named 'StringIO'"
     ]
    }
   ],
   "source": [
    "import numpy as np\n",
    "import scipy\n",
    "import scipy.spatial\n",
    "import PIL.Image\n",
    "import math\n",
    "import time\n",
    "#from config_reader import config_reader\n",
    "#import util\n",
    "import copy\n",
    "import matplotlib\n",
    "%matplotlib inline\n",
    "from matplotlib import pyplot as plt\n",
    "import cv2 as cv \n",
    "from scipy.ndimage.filters import gaussian_filter\n",
    "import pickle\n",
    "import wget\n",
    "\n",
    "from PIL import Image\n",
    "import requests\n",
    "from StringIO import StringIO\n",
    "\n",
    "from sklearn.neighbors import NearestNeighbors\n",
    "import sklearn\n",
    "\n",
    "from collections import Counter\n",
    "from collections import OrderedDict\n",
    "import pandas\n",
    "import operator\n",
    "\n",
    "import csv\n",
    "import re\n",
    "import tqdm\n",
    "import bodies as bd\n",
    "\n",
    "import bqplot as bqp\n",
    "from ipywidgets import interact"
   ]
  },
  {
   "cell_type": "code",
   "execution_count": null,
   "metadata": {},
   "outputs": [],
   "source": [
    "myPaintings = pickle.load(open('/home/ayush/Desktop/3dBodies/Python Scripts/myPaintings07500.p', 'rb'))[:21401]\n",
    "\n",
    "\n",
    "## HERE go buc corrections to the catalog, which are numerous.... \n",
    "myPaintings[7465][1] = 'http://www.wga.hu/art/c/casa/portrait_C.jpg' ## and NOT portrait_c (lowercase), the original...\n",
    "\n"
   ]
  },
  {
   "cell_type": "code",
   "execution_count": null,
   "metadata": {},
   "outputs": [],
   "source": [
    "myPaintings[7465][1]"
   ]
  },
  {
   "cell_type": "code",
   "execution_count": null,
   "metadata": {
    "scrolled": true
   },
   "outputs": [],
   "source": [
    "import numpy as np\n",
    "print(np.asarray(myPaintings).shape)"
   ]
  },
  {
   "cell_type": "code",
   "execution_count": null,
   "metadata": {},
   "outputs": [],
   "source": [
    "myPaintings[6251][1]"
   ]
  },
  {
   "cell_type": "code",
   "execution_count": null,
   "metadata": {
    "scrolled": false
   },
   "outputs": [],
   "source": [
    "# Bruno has only files 000033 and 006251\n",
    "vis_index = 40\n",
    "#image_name = '/home/ayush/Desktop/3dBodies/Python Scripts/breakfas.jpg'\n",
    "image_name = myPaintings[vis_index][0]\n",
    "subset     = myPaintings[vis_index][2]\n",
    "candidate  = myPaintings[vis_index][3]\n",
    "all_peaks  = myPaintings[vis_index][4]\n",
    "\n",
    "\n",
    "colors = [[255, 0, 0], [255, 85, 0], [255, 170, 0], [255, 255, 0], [170, 255, 0], [85, 255, 0], [0, 255, 0], \\\n",
    "          [0, 255, 85], [0, 255, 170], [0, 255, 255], [0, 170, 255], [0, 85, 255], [0, 0, 255], [85, 0, 255], \\\n",
    "          [170, 0, 255], [255, 0, 255], [255, 0, 170], [255, 0, 85]]\n",
    "# find connection in the specified sequence, center 29 is in the position 15\n",
    "limbSeq = [[2,3], [2,6], [3,4], [4,5], [6,7], [7,8], [2,9], [9,10], \\\n",
    "           [10,11], [2,12], [12,13], [13,14], [2,1], [1,15], [15,17], \\\n",
    "           [1,16], [16,18], [3,17], [6,18]]\n",
    "# the middle joints heatmap correpondence\n",
    "mapIdx = [[31,32], [39,40], [33,34], [35,36], [41,42], [43,44], [19,20], [21,22], \\\n",
    "          [23,24], [25,26], [27,28], [29,30], [47,48], [49,50], [53,54], [51,52], \\\n",
    "          [55,56], [37,38], [45,46]]\n",
    "cmap = matplotlib.cm.get_cmap('hsv')\n",
    "\n",
    "oriImg = cv.imread(image_name) # B,G,R order\n",
    "canvas = cv.imread(image_name) # B,G,R order\n",
    "\n",
    "\n",
    "for i in range(18):\n",
    "    rgba = np.array(cmap(1 - i/18. - 1./36))\n",
    "    rgba[0:3] *= 255\n",
    "    for j in range(len(all_peaks[i])):\n",
    "        cv.circle(canvas, all_peaks[i][j][0:2], 4, colors[i], thickness=-1)\n",
    "\n",
    "to_plot = cv.addWeighted(oriImg, 0.3, canvas, 0.7, 0)\n",
    "# plt.imshow(to_plot[:,:,[2,1,0]])\n",
    "# fig = matplotlib.pyplot.gcf()\n",
    "# fig.set_size_inches(12, 12)\n",
    "\n",
    "# visualize 2\n",
    "stickwidth = 4\n",
    "\n",
    "\n",
    "for i in range(17):\n",
    "    for n in range(len(subset)):\n",
    "        index = subset[n][np.array(limbSeq[i])-1]\n",
    "        if -1 in index:\n",
    "            continue\n",
    "        cur_canvas = canvas.copy()\n",
    "        Y = candidate[index.astype(int), 0]\n",
    "        X = candidate[index.astype(int), 1]\n",
    "        mX = np.mean(X)\n",
    "        mY = np.mean(Y)\n",
    "        length = ((X[0] - X[1]) ** 2 + (Y[0] - Y[1]) ** 2) ** 0.5\n",
    "        angle = math.degrees(math.atan2(X[0] - X[1], Y[0] - Y[1]))\n",
    "        polygon = cv.ellipse2Poly((int(mY),int(mX)), (int(length/2), stickwidth), int(angle), 0, 360, 1)\n",
    "        cv.fillConvexPoly(cur_canvas, polygon, colors[i])\n",
    "        canvas = cv.addWeighted(canvas, 0.4, cur_canvas, 0.6, 0)\n",
    "     \n",
    "plt.imshow(canvas[:,:,[2,1,0]])\n",
    "fig = matplotlib.pyplot.gcf()\n",
    "fig.set_size_inches(12, 12)"
   ]
  },
  {
   "cell_type": "markdown",
   "metadata": {},
   "source": [
    "for i in range(20):\n",
    "    print(points[i])\n",
    "    \n",
    "for n in range(len(subset)):\n",
    "    for i in range(len(links[n])):\n",
    "        print(links[n][i])"
   ]
  },
  {
   "cell_type": "code",
   "execution_count": null,
   "metadata": {},
   "outputs": [],
   "source": [
    "# len(subset) is the number of people. \n",
    "# First test: print the number of people in portrait vs mythological vs landscape vs religious painting.\n",
    "\n",
    "subPaintings = myPaintings[1:16300]\n",
    "print(subPaintings[3][13])\n",
    "port_n = 0\n",
    "port_p = 0\n",
    "myth_n = 0\n",
    "myth_p = 0\n",
    "land_n = 0\n",
    "land_p = 0\n",
    "relg_n = 0\n",
    "relg_p = 0\n",
    "\n",
    "for s in subPaintings:\n",
    "    if s[12] == 'painting' and s[13] == 'portrait':\n",
    "        port_n += 1\n",
    "        port_p += len(s[2])\n",
    "    \n",
    "print(1.0*port_p/port_n)    \n",
    "int(s[15][:4])"
   ]
  },
  {
   "cell_type": "code",
   "execution_count": null,
   "metadata": {},
   "outputs": [],
   "source": [
    "#6 seconds in my computer\n",
    "all_bodies = bd.construct_body_list(7500, myPaintings)"
   ]
  },
  {
   "cell_type": "code",
   "execution_count": null,
   "metadata": {},
   "outputs": [],
   "source": [
    "all_relative_angles = bd.get_all_relative_angles(all_bodies)"
   ]
  },
  {
   "cell_type": "code",
   "execution_count": null,
   "metadata": {},
   "outputs": [],
   "source": [
    "#2 seconds in my computer\n",
    "#We can multiply the mean lengths by 2 to be more precise and have better views\n",
    "ll = bd.all_bodies_mean_limb_length(all_bodies) * np.array(2.)\n",
    "print ll"
   ]
  },
  {
   "cell_type": "code",
   "execution_count": null,
   "metadata": {},
   "outputs": [],
   "source": [
    "resized_bodies = bd.resize_all_bodies(all_bodies, (500,300), ll)"
   ]
  },
  {
   "cell_type": "code",
   "execution_count": null,
   "metadata": {},
   "outputs": [],
   "source": [
    "body_id = 73\n",
    "black = (0,0,0)\n",
    "red = (1,0,0)\n",
    "width, height = 1000, 1000\n",
    "skeletons_img = np.ones((height, width, 3))\n",
    "\n",
    "body = resized_bodies[body_id]\n",
    "limbs = body[1]\n",
    "\n",
    "#draw the skeleton\n",
    "skeletons = bd.points_to_skeleton(body, black, skeletons_img)\n",
    "\n",
    "#find skeleton with mean limbs lengths\n",
    "angles = bd.find_absolute_angles(body)\n",
    "body_bis = bd.angles_to_body(angles,limbs,ll,(500,300), body[2])\n",
    "\n",
    "#draw this second skeleton in red\n",
    "#skeletons_img = bd.points_to_skeleton(body_bis, red, skeletons_img)\n",
    "plt.imshow(skeletons_img)\n",
    "fig = matplotlib.pyplot.gcf()\n",
    "fig.set_size_inches(10, 10)\n",
    "\n",
    "#compute the error between the two skeletons\n",
    "ignored = bd.find_ignored_points(body_bis[0])\n",
    "bd.mean_error_between_bodies(body, body_bis)"
   ]
  },
  {
   "cell_type": "code",
   "execution_count": null,
   "metadata": {},
   "outputs": [],
   "source": [
    "base_body = bd.angles_to_body(bd.base_angles(),bd.base_limbs(),ll,(500,300), bd.base_ignored())"
   ]
  },
  {
   "cell_type": "code",
   "execution_count": null,
   "metadata": {},
   "outputs": [],
   "source": [
    "deviation = bd.compute_std_deviation(all_relative_angles)\n",
    "print deviation"
   ]
  },
  {
   "cell_type": "code",
   "execution_count": null,
   "metadata": {},
   "outputs": [],
   "source": [
    "\n",
    "bd.interactive_body(base_body, all_relative_angles, resized_bodies)\n"
   ]
  },
  {
   "cell_type": "code",
   "execution_count": null,
   "metadata": {
    "scrolled": true
   },
   "outputs": [],
   "source": [
    "bd.plot_n_nearest_neighbors(all_relative_angles, bd.member_relative_angles(base_body), all_bodies, myPaintings, deviation, 5)"
   ]
  },
  {
   "cell_type": "code",
   "execution_count": null,
   "metadata": {
    "scrolled": true
   },
   "outputs": [],
   "source": [
    "l = bd.get_n_nearest_neighbor(all_relative_angles, bd.member_relative_angles(base_body), deviation, dist=100)[1][0]"
   ]
  },
  {
   "cell_type": "code",
   "execution_count": null,
   "metadata": {},
   "outputs": [],
   "source": [
    "p_values = bd.histograms(myPaintings[1:7501], bd.get_paintings_from_bodies(l, all_bodies, myPaintings), True, True, True, True)\n",
    "print(p_values)\n",
    "print len(l)"
   ]
  },
  {
   "cell_type": "code",
   "execution_count": null,
   "metadata": {},
   "outputs": [],
   "source": []
  },
  {
   "cell_type": "code",
   "execution_count": null,
   "metadata": {},
   "outputs": [],
   "source": []
  },
  {
   "cell_type": "code",
   "execution_count": null,
   "metadata": {},
   "outputs": [],
   "source": []
  },
  {
   "cell_type": "code",
   "execution_count": null,
   "metadata": {},
   "outputs": [],
   "source": []
  },
  {
   "cell_type": "code",
   "execution_count": null,
   "metadata": {},
   "outputs": [],
   "source": []
  },
  {
   "cell_type": "code",
   "execution_count": null,
   "metadata": {},
   "outputs": [],
   "source": []
  },
  {
   "cell_type": "code",
   "execution_count": null,
   "metadata": {},
   "outputs": [],
   "source": []
  },
  {
   "cell_type": "code",
   "execution_count": null,
   "metadata": {},
   "outputs": [],
   "source": []
  },
  {
   "cell_type": "code",
   "execution_count": null,
   "metadata": {},
   "outputs": [],
   "source": []
  },
  {
   "cell_type": "code",
   "execution_count": null,
   "metadata": {},
   "outputs": [],
   "source": []
  }
 ],
 "metadata": {
  "anaconda-cloud": {},
  "kernelspec": {
   "display_name": "Python 3",
   "language": "python",
   "name": "python3"
  },
  "language_info": {
   "codemirror_mode": {
    "name": "ipython",
    "version": 2
   },
   "file_extension": ".py",
   "mimetype": "text/x-python",
   "name": "python",
   "nbconvert_exporter": "python",
   "pygments_lexer": "ipython2",
   "version": "2.7.12"
  },
  "widgets": {
   "state": {
    "af28987697ba4a098f77d72cf576bcbb": {
     "views": [
      {
       "cell_index": 15
      }
     ]
    }
   },
   "version": "1.2.0"
  }
 },
 "nbformat": 4,
 "nbformat_minor": 1
}
