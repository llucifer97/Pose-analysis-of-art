{
 "cells": [
  {
   "cell_type": "code",
   "execution_count": 4,
   "metadata": {},
   "outputs": [
    {
     "data": {
      "text/html": [
       "        <script type=\"text/javascript\">\n",
       "        window.PlotlyConfig = {MathJaxConfig: 'local'};\n",
       "        if (window.MathJax) {MathJax.Hub.Config({SVG: {font: \"STIX-Web\"}});}\n",
       "        if (typeof require !== 'undefined') {\n",
       "        require.undef(\"plotly\");\n",
       "        requirejs.config({\n",
       "            paths: {\n",
       "                'plotly': ['https://cdn.plot.ly/plotly-latest.min']\n",
       "            }\n",
       "        });\n",
       "        require(['plotly'], function(Plotly) {\n",
       "            window._Plotly = Plotly;\n",
       "        });\n",
       "        }\n",
       "        </script>\n",
       "        "
      ]
     },
     "metadata": {},
     "output_type": "display_data"
    }
   ],
   "source": [
    "import json\n",
    "import numpy as np\n",
    "import pandas as pd\n",
    "from pandas.io.json import json_normalize\n",
    "import plotly.offline as py\n",
    "py.init_notebook_mode(connected=True)\n",
    "import seaborn as sns\n",
    "\n",
    "import matplotlib\n",
    "%matplotlib inline\n",
    "from matplotlib import pyplot as plt\n",
    "\n",
    "import cv2\n",
    "from sklearn import metrics\n",
    "from sklearn.cluster import KMeans\n",
    "from sklearn.datasets import load_digits\n",
    "from sklearn.decomposition import PCA\n",
    "from sklearn.preprocessing import scale\n",
    "\n",
    "import matplotlib.pyplot as plt\n",
    "from sklearn.preprocessing import StandardScaler\n",
    "from sklearn.manifold import TSNE\n",
    "\n",
    "import glob\n",
    "from natsort import natsorted, ns\n",
    "\n",
    "\n",
    "import ipywidgets as widgets\n",
    "from ipywidgets import interact, interact_manual, Image\n",
    "\n",
    "import csv\n",
    "import os\n",
    "#import psutil\n",
    "#print(psutil.virtual_memory())\n",
    "from bqplot import pyplot as plt\n",
    "from bqplot import (\n",
    "    Axis, ColorAxis, LinearScale, DateScale, DateColorScale, OrdinalScale,\n",
    "    OrdinalColorScale, ColorScale, Scatter, Lines, Figure, Tooltip\n",
    ")\n",
    "from ipywidgets import Label\n",
    "from bqplot import *\n",
    "\n",
    "import bqplot.pyplot as plt\n",
    "import cv2"
   ]
  },
  {
   "cell_type": "code",
   "execution_count": 5,
   "metadata": {},
   "outputs": [],
   "source": [
    "folder_path = '/home/ayush/Desktop/3dBodies/img_json_'\n",
    "json_arr2 = []\n",
    "for i in range(0,8):\n",
    "    with open('/home/ayush/Desktop/3dBodies/img_json_/' + str(i) + '.json') as f2:\n",
    "        d2 = json.load(f2)\n",
    "        json_arr2.append(d2)\n"
   ]
  },
  {
   "cell_type": "code",
   "execution_count": null,
   "metadata": {},
   "outputs": [],
   "source": []
  },
  {
   "cell_type": "code",
   "execution_count": 6,
   "metadata": {},
   "outputs": [
    {
     "data": {
      "text/plain": [
       "8"
      ]
     },
     "execution_count": 6,
     "metadata": {},
     "output_type": "execute_result"
    }
   ],
   "source": [
    "from natsort import natsorted, ns\n",
    "# This is the path where all the files are stored.\n",
    "json_path2 = '/home/ayush/Desktop/3dBodies/img_json_'\n",
    "# Open one of the files,\n",
    "lst2 = []\n",
    "for data_file2 in os.listdir(json_path2):\n",
    "     lst2.append(data_file2)\n",
    "json_file2 = natsorted(lst2, key=lambda y: y.lower())\n",
    "len(json_file2)"
   ]
  },
  {
   "cell_type": "code",
   "execution_count": 7,
   "metadata": {},
   "outputs": [
    {
     "data": {
      "text/plain": [
       "['3.json',\n",
       " '7.json',\n",
       " '0.json',\n",
       " '4.json',\n",
       " '5.json',\n",
       " '6.json',\n",
       " '2.json',\n",
       " '1.json']"
      ]
     },
     "execution_count": 7,
     "metadata": {},
     "output_type": "execute_result"
    }
   ],
   "source": [
    "lst2"
   ]
  },
  {
   "cell_type": "code",
   "execution_count": 8,
   "metadata": {},
   "outputs": [],
   "source": [
    "peeps2 = []\n",
    "for j in range(0,8):\n",
    "    peeps2.append(len(json_arr2[j]['people']))\n",
    "       "
   ]
  },
  {
   "cell_type": "code",
   "execution_count": 9,
   "metadata": {},
   "outputs": [],
   "source": [
    "#lets connect the number of peeps,json file name and arr[] i.e keypoints\n",
    "mapped2 = zip(json_file2, peeps2)\n",
    "\n",
    "# converting values to print as set \n",
    "mapped2 = set(mapped2) \n",
    "json_to_peeps2 = list(mapped2)\n",
    "json_to_peeps2 = natsorted(json_to_peeps2)\n",
    "#json_to_peeps2"
   ]
  },
  {
   "cell_type": "code",
   "execution_count": 10,
   "metadata": {},
   "outputs": [],
   "source": [
    "arr = []\n",
    "for j in range(0,8):\n",
    "    keypt = json_normalize(json_arr2[j]['people'])\n",
    "    for i in range(len(keypt['pose_keypoints_2d'])):\n",
    "        arr.append(keypt['pose_keypoints_2d'][i])\n",
    "    "
   ]
  },
  {
   "cell_type": "code",
   "execution_count": 11,
   "metadata": {},
   "outputs": [],
   "source": [
    "#arr[0]"
   ]
  },
  {
   "cell_type": "code",
   "execution_count": 12,
   "metadata": {},
   "outputs": [],
   "source": [
    "#map a set of json file to the gesture keypoints\n",
    "ppl = []\n",
    "for i in range(len(json_to_peeps2)):\n",
    "    ppl.append(json_to_peeps2[i][1])\n",
    "    "
   ]
  },
  {
   "cell_type": "code",
   "execution_count": 13,
   "metadata": {},
   "outputs": [],
   "source": [
    "frame = cv2.imread(\"white.jpg\")\n",
    "frameCopy = np.copy(frame)\n",
    "frameCopy2 = np.copy(frame)\n",
    "\n",
    "frameWidth = frame.shape\n",
    "frameHeight = frame.shape[0]\n",
    "threshold = 0.1 \n",
    "#get the points\n",
    "POSE_PAIRS = [ [1,0],[1,2],[1,5],[2,3],[3,4],[5,6],[6,7],[1,8],[8,9],[9,10],[1,11],[11,12],[12,13],[0,14],[0,15],[14,16],[15,17]]\n",
    "#remove the confidence map\n",
    "point = []\n",
    "for j in range(len(arr)):\n",
    "    for i in range(0,53):\n",
    "        if i == 0 or i == 1 or i == 3 or i == 4 or i == 6 or i == 7 or i ==9 or i == 10 or i ==12 or i ==13 or i ==15 or i ==16 or i ==18 or i ==19 or i ==21 or i ==22 or i ==24 or i ==25 or i ==27 or i ==28 or i == 30 or i ==31 or i ==33 or i == 34 or i == 36 or i ==37 or i ==39 or i == 40 or i ==42 or i ==43  or i == 45 or i == 46 or i ==48 or i == 49 or i == 51 or i ==52:\n",
    "            point.append(arr[j][i])\n",
    " \n",
    "   "
   ]
  },
  {
   "cell_type": "code",
   "execution_count": null,
   "metadata": {},
   "outputs": [],
   "source": []
  },
  {
   "cell_type": "code",
   "execution_count": 14,
   "metadata": {},
   "outputs": [],
   "source": [
    "pts = []\n",
    "for i in range(len(point)):\n",
    "    pts.append(int(point[i]))\n"
   ]
  },
  {
   "cell_type": "code",
   "execution_count": 15,
   "metadata": {},
   "outputs": [],
   "source": [
    "from itertools import islice \n",
    "def convert(lst, var_lst):\n",
    "    idx = 0\n",
    "    for var_len in var_lst: \n",
    "        yield lst[idx : idx + var_len] \n",
    "        idx += var_len \n",
    "\n",
    "# Driver code \n",
    "s = len(pts)/2\n",
    "lst = pts\n",
    "var_lst = [2] * s\n",
    "#print(list(convert(lst, var_lst))) \n",
    "all_body_coordinates = list(convert(lst, var_lst))"
   ]
  },
  {
   "cell_type": "code",
   "execution_count": 16,
   "metadata": {},
   "outputs": [],
   "source": [
    "my_list = all_body_coordinates\n",
    "# Yield successive n-sized                   \n",
    "# chunks from l. \n",
    "def divide_chunks(l, n): \n",
    "\t                                                       # x -> single_body_set\n",
    "                                                           # points -> all_body_coordinates\n",
    "\t# looping till length l \n",
    "\tfor i in range(0, len(l), n): \n",
    "\t\tyield l[i:i + n] \n",
    "\n",
    "# How many elements each \n",
    "# list should have \n",
    "n = 18\n",
    "\n",
    "single_body_set = list(divide_chunks(my_list, n)) \n",
    "#print (single_body_set) \n"
   ]
  },
  {
   "cell_type": "code",
   "execution_count": 17,
   "metadata": {},
   "outputs": [],
   "source": [
    "lst = single_body_set\n",
    "var_lst = ppl\n",
    "#print(list(convert(lst, var_lst))) \n",
    "full_image_pose = list(convert(lst, var_lst))"
   ]
  },
  {
   "cell_type": "code",
   "execution_count": 18,
   "metadata": {},
   "outputs": [],
   "source": [
    "#single_body_set[0]\n"
   ]
  },
  {
   "cell_type": "code",
   "execution_count": 19,
   "metadata": {},
   "outputs": [],
   "source": [
    "from bqplot import pyplot as plt"
   ]
  },
  {
   "cell_type": "code",
   "execution_count": 20,
   "metadata": {},
   "outputs": [],
   "source": [
    "#plt.figure(title='My First Plot')\n",
    "#plt.plot(x_data[:3], y_data[:3])\n",
    "#plt.show()"
   ]
  },
  {
   "cell_type": "code",
   "execution_count": 21,
   "metadata": {},
   "outputs": [],
   "source": [
    "#pts[:70]"
   ]
  },
  {
   "cell_type": "code",
   "execution_count": 22,
   "metadata": {},
   "outputs": [],
   "source": [
    "#pts[36:2*36]"
   ]
  },
  {
   "cell_type": "code",
   "execution_count": null,
   "metadata": {},
   "outputs": [],
   "source": []
  },
  {
   "cell_type": "code",
   "execution_count": 23,
   "metadata": {},
   "outputs": [],
   "source": [
    "points36 = list(divide_chunks(pts, 36)) \n"
   ]
  },
  {
   "cell_type": "code",
   "execution_count": 24,
   "metadata": {},
   "outputs": [],
   "source": [
    "import bqplot as bqp"
   ]
  },
  {
   "cell_type": "code",
   "execution_count": 25,
   "metadata": {},
   "outputs": [],
   "source": [
    "\n",
    "x_data = []\n",
    "y_data = []\n",
    "for i in range(36):\n",
    "    if i%2 == 0:\n",
    "        x_data.append(points36[2][i])\n",
    "    else:\n",
    "        y_data.append(points36[2][i])\n",
    "    "
   ]
  },
  {
   "cell_type": "code",
   "execution_count": 26,
   "metadata": {},
   "outputs": [],
   "source": [
    "\n",
    "sc_x = LinearScale()\n",
    "sc_y = LinearScale(reverse=True)\n",
    "\n",
    "ax_x = Axis(scale=sc_x)\n",
    "ax_y = Axis(scale=sc_y, tick_format='0.2f', orientation='vertical')\n",
    "\n",
    "#plt.figure(title='My human Plot')\n",
    "\n",
    "def_tt_left_leg = Tooltip(fields=['x', 'y'], formats=['', '.2f'])\n",
    "def_tt_rt_leg = Tooltip(fields=['x', 'y'], formats=['', '.2f'])\n",
    "def_tt_left_hand = Tooltip(fields=['x', 'y'], formats=['', '.2f'])\n",
    "def_tt_rt_hand = Tooltip(fields=['x', 'y'], formats=['', '.2f'])\n",
    "def_tt_left_head_ = Tooltip(fields=['x', 'y'], formats=['', '.2f'])\n",
    "def_tt_rt_head = Tooltip(fields=['x', 'y'], formats=['', '.2f'])"
   ]
  },
  {
   "cell_type": "code",
   "execution_count": 115,
   "metadata": {},
   "outputs": [],
   "source": [
    "def pose_emulation(file_name,j):\n",
    "    image_path = os.path.abspath('/home/ayush/Desktop/3dBodies/img/' + file_name)\n",
    "\n",
    "    img = cv2.imread(image_path, cv2.IMREAD_UNCHANGED)\n",
    " \n",
    "    # get dimensions of image\n",
    "    #dimensions = img.shape\n",
    " \n",
    "    # height, width, number of channels in image\n",
    "    height = img.shape[0]\n",
    "    width = img.shape[1] \n",
    "    sc_x = LinearScale(min = 0,max = width)\n",
    "    sc_y = LinearScale(reverse=True,min = 0,max = height)\n",
    "\n",
    "    ax_x = Axis(scale=sc_x)\n",
    "    ax_y = Axis(scale=sc_y, tick_format='0.2f', orientation='vertical')\n",
    "\n",
    "    x_data = select_json(j)[0]\n",
    "    y_data = select_json(j)[1]\n",
    "    left_hand_x = [x_data[3],x_data[4]]\n",
    "    left_hand_y = [y_data[3],y_data[4]]\n",
    "\n",
    "    rt_hand_x = [x_data[6],x_data[7]]\n",
    "    rt_hand_y = [y_data[6],y_data[7]]\n",
    "\n",
    "    left_leg_x = [x_data[9],x_data[10]]\n",
    "    left_leg_y = [y_data[9],y_data[10]]\n",
    "\n",
    "    rt_leg_x = [x_data[12],x_data[13]]\n",
    "    rt_leg_y = [y_data[12],y_data[13]]\n",
    "\n",
    "    left_head_x = [x_data[0],x_data[14],x_data[16]]\n",
    "    left_head_y = [y_data[0],y_data[14],y_data[16]]\n",
    "\n",
    "    rt_head_x = [x_data[17]]\n",
    "    rt_head_y = [y_data[17]]\n",
    "    d_size = 150\n",
    "    pose = plt.figure()\n",
    "    lin2 = Lines(x=[x_data[2],x_data[5],x_data[11],x_data[8],x_data[2]], y=[y_data[2],y_data[5],y_data[11],y_data[8],y_data[2]], scales={'x': sc_x, 'y': sc_y}, line_style='solid', colors=['red'])\n",
    "\n",
    "    joint2 = Scatter(x=[x_data[2]], y=[y_data[2]], scales={'x': sc_x, 'y': sc_y}, colors=['orange'],tooltip=def_tt_left_hand, unhovered_style={'opacity': 0.5},\n",
    "                   enable_move=False,default_size=d_size,apply_clip = True,update_on_move = True)#\n",
    "\n",
    "    joint5 = Scatter(x=[x_data[5]], y=[y_data[5]], scales={'x': sc_x, 'y': sc_y}, colors=['orange'],tooltip=def_tt_left_hand, unhovered_style={'opacity': 0.5},\n",
    "                   enable_move=False,default_size=d_size,apply_clip = True,update_on_move = True)#\n",
    "\n",
    "    joint8 = Scatter(x=[x_data[8]], y=[y_data[8]], scales={'x': sc_x, 'y': sc_y}, colors=['orange'],tooltip=def_tt_left_hand, unhovered_style={'opacity': 0.5},\n",
    "                   enable_move=False,default_size=d_size,apply_clip = True,update_on_move = True)#\n",
    "\n",
    "    joint11 = Scatter(x=[x_data[11]], y=[y_data[11]], scales={'x': sc_x, 'y': sc_y}, colors=['orange'],tooltip=def_tt_left_hand, unhovered_style={'opacity': 0.5},\n",
    "                   enable_move=False,default_size=d_size,apply_clip = True,update_on_move = True)#\n",
    "\n",
    "    joint1 = Scatter(x=[x_data[1]], y=[y_data[1]], scales={'x': sc_x, 'y': sc_y}, colors=['orange'],tooltip=def_tt_left_hand, unhovered_style={'opacity': 0.5},\n",
    "                   enable_move=False,default_size=d_size,apply_clip = True,update_on_move = True)#\n",
    "\n",
    "    joint15 = Scatter(x=[x_data[15]], y=[y_data[15]], scales={'x': sc_x, 'y': sc_y}, colors=['orange'],tooltip=def_tt_left_hand, unhovered_style={'opacity': 0.5},\n",
    "                   enable_move=True,default_size=d_size,apply_clip = True,update_on_move = True)\n",
    "\n",
    "\n",
    "    left_hand = Scatter(x=left_hand_x, y=left_hand_y, scales={'x': sc_x, 'y': sc_y}, colors=['orange'],tooltip=def_tt_left_hand, unhovered_style={'opacity': 0.5},\n",
    "                   enable_move=True,default_size=d_size,apply_clip = True,update_on_move = True)\n",
    "\n",
    "    rt_hand = Scatter(x=rt_hand_x, y=rt_hand_y, scales={'x': sc_x, 'y': sc_y}, colors=['orange'],tooltip=def_tt_left_hand, unhovered_style={'opacity': 0.5},\n",
    "                   enable_move=True,default_size=d_size,apply_clip = True,update_on_move = True)\n",
    "\n",
    "    left_leg = Scatter(x=left_leg_x, y=left_leg_y, scales={'x': sc_x, 'y': sc_y}, colors=['orange'],tooltip=def_tt_left_hand, unhovered_style={'opacity': 0.5},\n",
    "                   enable_move=True,default_size=d_size,apply_clip = True,update_on_move = True)\n",
    "\n",
    "    rt_leg = Scatter(x=rt_leg_x, y=rt_leg_y, scales={'x': sc_x, 'y': sc_y}, colors=['orange'],tooltip=def_tt_left_hand, unhovered_style={'opacity': 0.5},\n",
    "                   enable_move=True,default_size=d_size,apply_clip = True,update_on_move = True)\n",
    "\n",
    "    left_head = Scatter(x=left_head_x, y=left_head_y, scales={'x': sc_x, 'y': sc_y}, colors=['orange'],tooltip=def_tt_left_hand, unhovered_style={'opacity': 0.5},\n",
    "                   enable_move=True,default_size=d_size,apply_clip = True,update_on_move = True)\n",
    "\n",
    "    rt_head = Scatter(x=rt_head_x, y=rt_head_y, scales={'x': sc_x, 'y': sc_y}, colors=['orange'],tooltip=def_tt_left_hand, unhovered_style={'opacity': 0.5},\n",
    "                   enable_move=True,default_size=d_size,apply_clip = True,update_on_move = True)\n",
    "\n",
    "    lin = Lines(x=[], y=[], scales={'x': sc_x, 'y': sc_y}, line_style='solid', colors=['blue']) #left_hand\n",
    "    lin3 = Lines(x=[], y=[], scales={'x': sc_x, 'y': sc_y}, line_style='solid', colors=['blue']) #rt_hand\n",
    "    lin4 = Lines(x=[], y=[], scales={'x': sc_x, 'y': sc_y}, line_style='solid', colors=['blue'])#left_leg\n",
    "    lin5 = Lines(x=[], y=[], scales={'x': sc_x, 'y': sc_y}, line_style='solid', colors=['blue'])#rt_leg\n",
    "    lin6 = Lines(x=[], y=[], scales={'x': sc_x, 'y': sc_y}, line_style='solid', colors=['blue'])#left_head\n",
    "\n",
    "    lin3_4 = Lines(x=[], y=[], scales={'x': sc_x, 'y': sc_y}, line_style='solid', colors=['blue'])#left_hand\n",
    "    lin6_7 = Lines(x=[], y=[], scales={'x': sc_x, 'y': sc_y}, line_style='solid', colors=['blue'])#rt_hand\n",
    "    lin9_10 = Lines(x=[], y=[], scales={'x': sc_x, 'y': sc_y}, line_style='solid', colors=['blue'])#left_leg\n",
    "    lin12_13 = Lines(x=[], y=[], scales={'x': sc_x, 'y': sc_y}, line_style='solid', colors=['blue'])#rt_leg\n",
    "    lin1_16 = Lines(x=[], y=[], scales={'x': sc_x, 'y': sc_y}, line_style='solid', colors=['blue'])#left_head\n",
    "    lin0_17 = Lines(x=[], y=[], scales={'x': sc_x, 'y': sc_y}, line_style='solid', colors=['blue'])\n",
    "\n",
    "\n",
    "\n",
    "\n",
    "\n",
    "\n",
    "\n",
    "    def update_line(change=None):#this function connects fixed joint and middle joint of left hand\n",
    "        with lin.hold_sync():\n",
    "            state_value_x = []\n",
    "            state_value_y = []\n",
    "\n",
    "            state_value_x.append(joint2.get_state().get('x').get('values')[0])\n",
    "\n",
    "            state_value_x.append(left_hand.get_state().get('x').get('values')[0])\n",
    "\n",
    "            lin.x = state_value_x\n",
    "            state_value_y.append(joint2.get_state().get('y').get('values')[0])\n",
    "\n",
    "            state_value_y.append(left_hand.get_state().get('y').get('values')[0])\n",
    "\n",
    "\n",
    "            lin.y = state_value_y\n",
    "\n",
    "\n",
    "    def update_line2(change=None): #this function connects fixed joint and middle joint of rt hand\n",
    "        with lin3.hold_sync():\n",
    "            state_value_x = []\n",
    "            state_value_y = []\n",
    "\n",
    "            state_value_x.append(joint5.get_state().get('x').get('values')[0])\n",
    "\n",
    "            state_value_x.append(rt_hand.get_state().get('x').get('values')[0])\n",
    "\n",
    "            lin3.x = state_value_x\n",
    "            state_value_y.append(joint5.get_state().get('y').get('values')[0])\n",
    "\n",
    "            state_value_y.append(rt_hand.get_state().get('y').get('values')[0])\n",
    "\n",
    "\n",
    "            lin3.y = state_value_y\n",
    "\n",
    "    def update_line3(change=None): #this function connects fixed joint and middle joint of left_leg\n",
    "        with lin4.hold_sync():\n",
    "            state_value_x = []\n",
    "            state_value_y = []\n",
    "\n",
    "            state_value_x.append(joint8.get_state().get('x').get('values')[0])\n",
    "\n",
    "            state_value_x.append(left_leg.get_state().get('x').get('values')[0])\n",
    "\n",
    "            lin4.x = state_value_x\n",
    "            state_value_y.append(joint8.get_state().get('y').get('values')[0])\n",
    "\n",
    "            state_value_y.append(left_leg.get_state().get('y').get('values')[0])\n",
    "\n",
    "\n",
    "            lin4.y = state_value_y\n",
    "\n",
    "    def update_line4(change=None): #this function connects fixed joint and middle joint of rt leg\n",
    "        with lin5.hold_sync():\n",
    "            state_value_x = []\n",
    "            state_value_y = []\n",
    "\n",
    "            state_value_x.append(joint11.get_state().get('x').get('values')[0])\n",
    "\n",
    "            state_value_x.append(rt_leg.get_state().get('x').get('values')[0])\n",
    "\n",
    "            lin5.x = state_value_x\n",
    "            state_value_y.append(joint11.get_state().get('y').get('values')[0])\n",
    "\n",
    "            state_value_y.append(rt_leg.get_state().get('y').get('values')[0])\n",
    "\n",
    "\n",
    "            lin5.y = state_value_y\n",
    "\n",
    "    def update_line5(change=None): \n",
    "        with lin6.hold_sync():\n",
    "            state_value_x = []\n",
    "            state_value_y = []\n",
    "\n",
    "            state_value_x.append(joint1.get_state().get('x').get('values')[0])\n",
    "\n",
    "            state_value_x.append(left_head.get_state().get('x').get('values')[0])\n",
    "\n",
    "            lin6.x = state_value_x\n",
    "            state_value_y.append(joint1.get_state().get('y').get('values')[0])\n",
    "\n",
    "            state_value_y.append(left_head.get_state().get('y').get('values')[0])\n",
    "\n",
    "\n",
    "            lin6.y = state_value_y\n",
    "\n",
    "\n",
    "\n",
    "\n",
    "    def left_arm(change=None):\n",
    "        with lin3_4.hold_sync():\n",
    "            state34_value_x = []\n",
    "            state34_value_y = []\n",
    "\n",
    "            state34_value_x.append(left_hand.get_state().get('x').get('values')[1])\n",
    "\n",
    "            state34_value_x.append(lin.get_state().get('x').get('values')[1])\n",
    "            lin3_4.x = state34_value_x\n",
    "\n",
    "            state34_value_y.append(left_hand.get_state().get('y').get('values')[1])\n",
    "            state34_value_y.append(lin.get_state().get('y').get('values')[1])\n",
    "            lin3_4.y = state34_value_y\n",
    "\n",
    "\n",
    "    def rt_arm(change=None): #this functionconnects middle joint and last joint of rt hand\n",
    "        with lin6_7.hold_sync():\n",
    "            state67_value_x = []\n",
    "            state67_value_y = []\n",
    "\n",
    "            state67_value_x.append(rt_hand.get_state().get('x').get('values')[1])\n",
    "\n",
    "            state67_value_x.append(lin3.get_state().get('x').get('values')[1])\n",
    "            lin6_7.x = state67_value_x\n",
    "\n",
    "            state67_value_y.append(rt_hand.get_state().get('y').get('values')[1])\n",
    "            state67_value_y.append(lin3.get_state().get('y').get('values')[1])\n",
    "            lin6_7.y = state67_value_y\n",
    "\n",
    "\n",
    "    def left_Leg(change=None): #this functionconnects middle joint and last joint of left leg\n",
    "        with lin6_7.hold_sync():\n",
    "            state9_10_value_x = []\n",
    "            state9_10_value_y = []\n",
    "\n",
    "            state9_10_value_x.append(left_leg.get_state().get('x').get('values')[1])\n",
    "\n",
    "            state9_10_value_x.append(lin4.get_state().get('x').get('values')[1])\n",
    "            lin9_10.x = state9_10_value_x\n",
    "\n",
    "            state9_10_value_y.append(left_leg.get_state().get('y').get('values')[1])\n",
    "            state9_10_value_y.append(lin4.get_state().get('y').get('values')[1])\n",
    "            lin9_10.y = state9_10_value_y\n",
    "\n",
    "\n",
    "    def rt_Leg(change=None): #this functionconnects middle joint and last joint of rt leg\n",
    "        with lin12_13.hold_sync():\n",
    "            state12_13_value_x = []\n",
    "            state12_13_value_y = []\n",
    "\n",
    "            state12_13_value_x.append(rt_leg.get_state().get('x').get('values')[1])\n",
    "\n",
    "            state12_13_value_x.append(lin5.get_state().get('x').get('values')[1])\n",
    "            lin12_13.x = state12_13_value_x\n",
    "\n",
    "            state12_13_value_y.append(rt_leg.get_state().get('y').get('values')[1])\n",
    "            state12_13_value_y.append(lin5.get_state().get('y').get('values')[1])\n",
    "            lin12_13.y = state12_13_value_y\n",
    "\n",
    "    def left_Head(change=None): #this functionconnects middle joint and last joint of rt leg\n",
    "        with lin1_16.hold_sync():\n",
    "            state1_16_value_x = []\n",
    "            state1_16_value_y = []\n",
    "            state1_16_value_x.append(lin6.get_state().get('x').get('values')[1])\n",
    "\n",
    "            state1_16_value_x.append(left_head.get_state().get('x').get('values')[1])\n",
    "\n",
    "            state1_16_value_x.append(left_head.get_state().get('x').get('values')[2])\n",
    "\n",
    "\n",
    "            lin1_16.x = state1_16_value_x\n",
    "            state1_16_value_y.append(lin6.get_state().get('y').get('values')[1])\n",
    "\n",
    "            state1_16_value_y.append(left_head.get_state().get('y').get('values')[1])\n",
    "            state1_16_value_y.append(left_head.get_state().get('y').get('values')[2])\n",
    "\n",
    "\n",
    "            lin1_16.y = state1_16_value_y\n",
    "\n",
    "    def rt_Head(change=None): #this functionconnects middle joint and last joint of rt leg\n",
    "        with lin0_17.hold_sync():\n",
    "            state0_17_value_x = []\n",
    "            state0_17_value_y = []\n",
    "            state0_17_value_x.append(left_head.get_state().get('x').get('values')[0])\n",
    "\n",
    "            state0_17_value_x.append(rt_head.get_state().get('x').get('values')[0])\n",
    "            state0_17_value_x.append(joint15.get_state().get('x').get('values')[0])\n",
    "\n",
    "\n",
    "\n",
    "            lin0_17.x = state0_17_value_x\n",
    "\n",
    "            state0_17_value_y.append(left_head.get_state().get('y').get('values')[0])\n",
    "\n",
    "            state0_17_value_y.append(rt_head.get_state().get('y').get('values')[0])\n",
    "            state0_17_value_y.append(joint15.get_state().get('y').get('values')[0])\n",
    "\n",
    "\n",
    "            lin0_17.y = state0_17_value_y\n",
    "\n",
    "\n",
    "\n",
    "\n",
    "\n",
    "\n",
    "    update_line()\n",
    "    left_arm()\n",
    "\n",
    "    update_line2()\n",
    "    rt_arm()\n",
    "\n",
    "\n",
    "    update_line3()\n",
    "    left_Leg()\n",
    "\n",
    "\n",
    "    update_line4()\n",
    "    rt_Leg()\n",
    "\n",
    "\n",
    "    update_line5()\n",
    "    left_Head()\n",
    "\n",
    "    rt_Head()\n",
    "\n",
    "    rt_head.observe(rt_Head,names=['x','y'])\n",
    "\n",
    "    left_hand.observe(left_arm,names=['x','y'])\n",
    "    left_hand.observe(update_line, names=['x','y'])\n",
    "\n",
    "    rt_hand.observe(rt_arm,names=['x','y'])\n",
    "    rt_hand.observe(update_line2, names=['x','y'])\n",
    "\n",
    "    left_leg.observe(left_Leg,names=['x','y'])\n",
    "    left_leg.observe(update_line3, names=['x','y'])\n",
    "\n",
    "    rt_leg.observe(rt_Leg,names=['x','y'])\n",
    "    rt_leg.observe(update_line4, names=['x','y'])\n",
    "\n",
    "    left_head.observe(left_Head,names=['x','y'])\n",
    "    left_head.observe(update_line5, names=['x','y'])\n",
    "\n",
    "    with open(image_path, 'rb') as f:\n",
    "        raw_image = f.read()\n",
    "    ipyimage = widgets.Image(value=raw_image, format='jpg')\n",
    "\n",
    "\n",
    "\n",
    "\n",
    "    im = plt.imshow(ipyimage, format='widget')\n",
    "\n",
    "    fig = Figure(marks=[im,lin,lin2,lin3,lin4,lin5,lin6,left_hand,rt_hand,left_leg,rt_leg,left_head,rt_head,joint2,joint5,joint8,joint11,joint1,joint15,lin12_13,lin3_4,lin6_7,lin9_10,lin1_16,lin0_17])\n",
    "\n",
    "    return fig"
   ]
  },
  {
   "cell_type": "code",
   "execution_count": 122,
   "metadata": {},
   "outputs": [],
   "source": [
    "def select_json(j):\n",
    "    x_data = []\n",
    "    y_data = []\n",
    "    for i in range(36):\n",
    "        if i%2 == 0:\n",
    "            x_data.append(points36[j][i])\n",
    "        else:\n",
    "            y_data.append(points36[j][i])\n",
    "    X = x_data\n",
    "    Y = y_data\n",
    "    return X,Y\n",
    "#interact_manual(select_json,j=widgets.IntSlider(min=1,max=len(points36),step=1,value=1),);\n"
   ]
  },
  {
   "cell_type": "code",
   "execution_count": 123,
   "metadata": {},
   "outputs": [
    {
     "data": {
      "application/vnd.jupyter.widget-view+json": {
       "model_id": "01dd0c4715104c758ab375774eb246c7",
       "version_major": 2,
       "version_minor": 0
      },
      "text/plain": [
       "aW50ZXJhY3RpdmUoY2hpbGRyZW49KERyb3Bkb3duKGRlc2NyaXB0aW9uPXUnZmlsZTonLCBpbmRleD0xLCBvcHRpb25zPSgnMS5qcGcnLCAnMi5qcGcnLCAnNi5qcGcnLCAnNS5qcGcnLCAnNy7igKY=\n"
      ]
     },
     "metadata": {},
     "output_type": "display_data"
    }
   ],
   "source": [
    "interact(pose_emulation,file_name =widgets.Dropdown(options=os.listdir(fdir),value='2.jpg',description='file:',disabled=False,) ,j=  widgets.IntSlider(min=0,max=16,step=1,value=1,description = \"pose_number\"),);\n",
    "\n",
    "                              \n",
    "\n",
    "\n"
   ]
  },
  {
   "cell_type": "code",
   "execution_count": null,
   "metadata": {},
   "outputs": [],
   "source": []
  },
  {
   "cell_type": "code",
   "execution_count": 34,
   "metadata": {},
   "outputs": [
    {
     "data": {
      "application/vnd.jupyter.widget-view+json": {
       "model_id": "a208e1c13e94485eb080ad47e7ac679d",
       "version_major": 2,
       "version_minor": 0
      },
      "text/plain": [
       "aW50ZXJhY3RpdmUoY2hpbGRyZW49KERyb3Bkb3duKGRlc2NyaXB0aW9uPXUnZmlsZScsIG9wdGlvbnM9KCcxLmpwZycsICcyLmpwZycsICc2LmpwZycsICc1LmpwZycsICc3LmpwZycsICc0LmrigKY=\n"
      ]
     },
     "metadata": {},
     "output_type": "display_data"
    }
   ],
   "source": [
    "import os\n",
    "from ipywidgets import interact, interact_manual, Image\n",
    "\n",
    "from IPython.display import Image, display, HTML\n",
    "fdir = './img/'\n",
    "\n",
    "@interact\n",
    "def show_images(file=os.listdir(fdir)):\n",
    "    display(Image(fdir + file))\n",
    "    return file\n",
    "#interact_manual(show_images,file = widgets.Text(value='', disabled=False))\n"
   ]
  },
  {
   "cell_type": "code",
   "execution_count": 60,
   "metadata": {},
   "outputs": [
    {
     "data": {
      "text/plain": [
       "['1.jpg', '2.jpg', '6.jpg', '5.jpg', '7.jpg', '4.jpg', '3.jpg', '0.jpg']"
      ]
     },
     "execution_count": 60,
     "metadata": {},
     "output_type": "execute_result"
    }
   ],
   "source": [
    "os.listdir(fdir)"
   ]
  },
  {
   "cell_type": "code",
   "execution_count": 30,
   "metadata": {},
   "outputs": [],
   "source": [
    "image_path = os.path.abspath('/home/ayush/Desktop/3dBodies/img/4.jpg')\n",
    "\n",
    "with open(image_path, 'rb') as f:\n",
    "    raw_image = f.read()\n",
    "ipyimage = widgets.Image(value=raw_image, format='jpg')\n"
   ]
  },
  {
   "cell_type": "code",
   "execution_count": null,
   "metadata": {
    "scrolled": true
   },
   "outputs": [],
   "source": []
  },
  {
   "cell_type": "code",
   "execution_count": 124,
   "metadata": {},
   "outputs": [],
   "source": [
    "#select_json(8)[1]"
   ]
  },
  {
   "cell_type": "code",
   "execution_count": null,
   "metadata": {},
   "outputs": [],
   "source": []
  },
  {
   "cell_type": "code",
   "execution_count": null,
   "metadata": {},
   "outputs": [],
   "source": []
  },
  {
   "cell_type": "code",
   "execution_count": null,
   "metadata": {},
   "outputs": [],
   "source": []
  },
  {
   "cell_type": "code",
   "execution_count": null,
   "metadata": {},
   "outputs": [],
   "source": []
  },
  {
   "cell_type": "code",
   "execution_count": null,
   "metadata": {},
   "outputs": [],
   "source": []
  },
  {
   "cell_type": "code",
   "execution_count": null,
   "metadata": {},
   "outputs": [],
   "source": []
  },
  {
   "cell_type": "code",
   "execution_count": null,
   "metadata": {},
   "outputs": [],
   "source": []
  },
  {
   "cell_type": "code",
   "execution_count": null,
   "metadata": {},
   "outputs": [],
   "source": []
  }
 ],
 "metadata": {
  "kernelspec": {
   "display_name": "Python 3",
   "language": "python",
   "name": "python3"
  },
  "language_info": {
   "codemirror_mode": {
    "name": "ipython",
    "version": 2
   },
   "file_extension": ".py",
   "mimetype": "text/x-python",
   "name": "python",
   "nbconvert_exporter": "python",
   "pygments_lexer": "ipython2",
   "version": "2.7.12"
  }
 },
 "nbformat": 4,
 "nbformat_minor": 2
}
