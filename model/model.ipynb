{
  "nbformat": 4,
  "nbformat_minor": 0,
  "metadata": {
    "kernelspec": {
      "display_name": "Python 3",
      "language": "python",
      "name": "python3"
    },
    "language_info": {
      "codemirror_mode": {
        "name": "ipython",
        "version": 3
      },
      "file_extension": ".py",
      "mimetype": "text/x-python",
      "name": "python",
      "nbconvert_exporter": "python",
      "pygments_lexer": "ipython3",
      "version": "3.5.2"
    },
    "colab": {
      "name": "model.py.ipynb",
      "version": "0.3.2",
      "provenance": []
    }
  },
  "cells": [
    {
      "cell_type": "code",
      "metadata": {
        "scrolled": true,
        "id": "V68KUIHMk4dh",
        "colab_type": "code",
        "colab": {}
      },
      "source": [
        "import json\n",
        "import os\n",
        "from natsort import natsorted, ns\n",
        "\n",
        "import numpy as np\n",
        "from keras.datasets import imdb\n",
        "from keras.models import Sequential\n",
        "from keras.layers import Dense\n",
        "from keras.layers import LSTM\n",
        "from keras.layers.embeddings import Embedding\n",
        "from keras.preprocessing import sequence\n",
        "from sklearn import preprocessing\n",
        "# fix random seed for reproducibility\n",
        "numpy.random.seed(7)"
      ],
      "execution_count": 0,
      "outputs": []
    },
    {
      "cell_type": "code",
      "metadata": {
        "id": "A7sIqphEl9oT",
        "colab_type": "code",
        "outputId": "7e7b70f7-c065-4eb0-de92-d9b9dc1e6826",
        "colab": {
          "base_uri": "https://localhost:8080/",
          "height": 124
        }
      },
      "source": [
        "from google.colab import drive\n",
        "drive.mount('/content/gdrive')"
      ],
      "execution_count": 2,
      "outputs": [
        {
          "output_type": "stream",
          "text": [
            "Go to this URL in a browser: https://accounts.google.com/o/oauth2/auth?client_id=947318989803-6bn6qk8qdgf4n4g3pfee6491hc0brc4i.apps.googleusercontent.com&redirect_uri=urn%3Aietf%3Awg%3Aoauth%3A2.0%3Aoob&scope=email%20https%3A%2F%2Fwww.googleapis.com%2Fauth%2Fdocs.test%20https%3A%2F%2Fwww.googleapis.com%2Fauth%2Fdrive%20https%3A%2F%2Fwww.googleapis.com%2Fauth%2Fdrive.photos.readonly%20https%3A%2F%2Fwww.googleapis.com%2Fauth%2Fpeopleapi.readonly&response_type=code\n",
            "\n",
            "Enter your authorization code:\n",
            "··········\n",
            "Mounted at /content/gdrive\n"
          ],
          "name": "stdout"
        }
      ]
    },
    {
      "cell_type": "code",
      "metadata": {
        "id": "KtYlCXL0mTEp",
        "colab_type": "code",
        "colab": {}
      },
      "source": [
        ""
      ],
      "execution_count": 0,
      "outputs": []
    },
    {
      "cell_type": "code",
      "metadata": {
        "id": "TPuW_3tgk4du",
        "colab_type": "code",
        "colab": {}
      },
      "source": [
        "path_to_json = '/content/gdrive/My Drive/jsondumps/'\n",
        "json_files = [pos_json for pos_json in os.listdir(path_to_json) if pos_json.endswith('.json')]\n",
        "json_arr = list()\n",
        "for json_file in json_files:\n",
        "    json_file_path = os.path.join(path_to_json, json_file)\n",
        "    with open(json_file_path, \"r\") as f:\n",
        "        json_arr.append(json.load(f))\n"
      ],
      "execution_count": 0,
      "outputs": []
    },
    {
      "cell_type": "code",
      "metadata": {
        "scrolled": true,
        "id": "Z7aV918Kk4d3",
        "colab_type": "code",
        "colab": {
          "base_uri": "https://localhost:8080/",
          "height": 642
        },
        "outputId": "59b58885-23aa-47ed-cc87-da59d222cab0"
      },
      "source": [
        "natsorted(list(natsorted(list(json_arr[2].values()))[0][0].values()))[0]"
      ],
      "execution_count": 4,
      "outputs": [
        {
          "output_type": "execute_result",
          "data": {
            "text/plain": [
              "[353.0,\n",
              " 191.0,\n",
              " 353.0,\n",
              " 261.0,\n",
              " 306.0,\n",
              " 261.0,\n",
              " 230.0,\n",
              " 264.0,\n",
              " 144.0,\n",
              " 259.0,\n",
              " 398.0,\n",
              " 271.0,\n",
              " 497.0,\n",
              " 271.0,\n",
              " 559.0,\n",
              " 276.0,\n",
              " 308.0,\n",
              " 450.0,\n",
              " 312.0,\n",
              " 574.0,\n",
              " 309.0,\n",
              " 738.0,\n",
              " 402.0,\n",
              " 449.0,\n",
              " 400.0,\n",
              " 591.0,\n",
              " 399.0,\n",
              " 735.0,\n",
              " 329.0,\n",
              " 171.0,\n",
              " 416.0,\n",
              " 191.0,\n",
              " 297.0,\n",
              " 188.0,\n",
              " 379.0,\n",
              " 164.0]"
            ]
          },
          "metadata": {
            "tags": []
          },
          "execution_count": 4
        }
      ]
    },
    {
      "cell_type": "code",
      "metadata": {
        "id": "ZkgjDy2Hk4d9",
        "colab_type": "code",
        "outputId": "2f98ad1c-8775-4c1d-dc3f-a82221852ce7",
        "colab": {
          "base_uri": "https://localhost:8080/",
          "height": 34
        }
      },
      "source": [
        "len(natsorted(list(natsorted(list(json_arr[2].values()))[0][0].values()))[0])"
      ],
      "execution_count": 0,
      "outputs": [
        {
          "output_type": "execute_result",
          "data": {
            "text/plain": [
              "36"
            ]
          },
          "metadata": {
            "tags": []
          },
          "execution_count": 7
        }
      ]
    },
    {
      "cell_type": "code",
      "metadata": {
        "id": "Z_rD9B1Fn_-E",
        "colab_type": "code",
        "colab": {}
      },
      "source": [
        "X_train = []\n",
        "for i in range(3):\n",
        "  \n",
        "  X_train.append(natsorted(list(natsorted(list(json_arr[i].values()))[0][0].values()))[0])\n",
        "  \n",
        "  \n",
        "  \n",
        "  "
      ],
      "execution_count": 0,
      "outputs": []
    },
    {
      "cell_type": "code",
      "metadata": {
        "id": "2uzdhXmWZBuD",
        "colab_type": "code",
        "colab": {}
      },
      "source": [
        "y_train = [0,1,0]"
      ],
      "execution_count": 0,
      "outputs": []
    },
    {
      "cell_type": "markdown",
      "metadata": {
        "id": "Y8G70M_b1oK1",
        "colab_type": "text"
      },
      "source": [
        ""
      ]
    },
    {
      "cell_type": "code",
      "metadata": {
        "id": "tdUc8LXOk4eD",
        "colab_type": "code",
        "colab": {}
      },
      "source": [
        "X_train = np.asarray(X_train)\n",
        "y_train = np.asarray(y_train)"
      ],
      "execution_count": 0,
      "outputs": []
    },
    {
      "cell_type": "code",
      "metadata": {
        "id": "47aM07Fok4eJ",
        "colab_type": "code",
        "colab": {
          "base_uri": "https://localhost:8080/",
          "height": 434
        },
        "outputId": "5122286e-3fd0-4105-c24d-0a03c7152b6c"
      },
      "source": [
        "X_train = preprocessing.normalize(X_train)"
      ],
      "execution_count": 53,
      "outputs": [
        {
          "output_type": "execute_result",
          "data": {
            "text/plain": [
              "array([[0.17086993, 0.08995533, 0.171774  , 0.12204995, 0.1460079 ,\n",
              "        0.11978977, 0.13109069, 0.16499345, 0.13877531, 0.20296455,\n",
              "        0.19980029, 0.12295402, 0.2269225 , 0.15595271, 0.19618399,\n",
              "        0.17222604, 0.1410355 , 0.18714326, 0.07960631, 0.20741733,\n",
              "        0.04162792, 0.2913609 , 0.17900659, 0.19211566, 0.09137426,\n",
              "        0.23834391, 0.08495538, 0.31455584, 0.16408938, 0.08317478,\n",
              "        0.18714326, 0.09085941, 0.15595271, 0.085887  , 0.17810252,\n",
              "        0.08407885],\n",
              "       [0.16643586, 0.14420324, 0.16643586, 0.15778984, 0.15902499,\n",
              "        0.15501076, 0.14914382, 0.15501076, 0.13864508, 0.15315804,\n",
              "        0.17415552, 0.1587162 , 0.1723028 , 0.16458314, 0.16643586,\n",
              "        0.1519229 , 0.1472911 , 0.1858894 , 0.13061664, 0.2062693 ,\n",
              "        0.1337045 , 0.24610274, 0.15778984, 0.19082998, 0.14553749,\n",
              "        0.21453258, 0.1468858 , 0.25014602, 0.1655095 , 0.14235052,\n",
              "        0.17415552, 0.1451296 , 0.16171718, 0.12819698, 0.16859736,\n",
              "        0.14327688],\n",
              "       [0.15414594, 0.08340475, 0.15414594, 0.11397193, 0.13362226,\n",
              "        0.11397193, 0.10043503, 0.11528195, 0.06288106, 0.11309858,\n",
              "        0.17379628, 0.11833867, 0.21702701, 0.11833867, 0.2441008 ,\n",
              "        0.12052204, 0.13449561, 0.19650333, 0.13624231, 0.25065091,\n",
              "        0.13493229, 0.32226546, 0.17554297, 0.19606665, 0.17466962,\n",
              "        0.25807437, 0.17423295, 0.32095544, 0.14366577, 0.07467126,\n",
              "        0.18165641, 0.08340475, 0.1296922 , 0.08209472, 0.16549947,\n",
              "        0.07161455]])"
            ]
          },
          "metadata": {
            "tags": []
          },
          "execution_count": 53
        }
      ]
    },
    {
      "cell_type": "code",
      "metadata": {
        "id": "QolwldfWk4eO",
        "colab_type": "code",
        "colab": {
          "base_uri": "https://localhost:8080/",
          "height": 350
        },
        "outputId": "a3511e4f-353c-4b80-d121-f087653d14be"
      },
      "source": [
        "embed_dim = 128\n",
        "lstm_out = 200\n",
        "batch_size = 36\n",
        "\n",
        "model = Sequential()\n",
        "model.add(Embedding(2500, embed_dim,input_length = X_train.shape[1], dropout = 0.2))\n",
        "model.add(LSTM(lstm_out, dropout_U = 0.2, dropout_W = 0.2))\n",
        "model.add(Dense(2,activation='softmax'))\n",
        "model.compile(loss = 'sparse_categorical_crossentropy', optimizer='adam',metrics = ['accuracy'])\n",
        "print(model.summary())"
      ],
      "execution_count": 54,
      "outputs": [
        {
          "output_type": "stream",
          "text": [
            "/usr/local/lib/python3.6/dist-packages/ipykernel_launcher.py:6: UserWarning: The `dropout` argument is no longer support in `Embedding`. You can apply a `keras.layers.SpatialDropout1D` layer right after the `Embedding` layer to get the same behavior.\n",
            "  \n",
            "/usr/local/lib/python3.6/dist-packages/ipykernel_launcher.py:7: UserWarning: Update your `LSTM` call to the Keras 2 API: `LSTM(200, dropout=0.2, recurrent_dropout=0.2)`\n",
            "  import sys\n"
          ],
          "name": "stderr"
        },
        {
          "output_type": "stream",
          "text": [
            "_________________________________________________________________\n",
            "Layer (type)                 Output Shape              Param #   \n",
            "=================================================================\n",
            "embedding_9 (Embedding)      (None, 36, 128)           320000    \n",
            "_________________________________________________________________\n",
            "lstm_9 (LSTM)                (None, 200)               263200    \n",
            "_________________________________________________________________\n",
            "dense_9 (Dense)              (None, 2)                 402       \n",
            "=================================================================\n",
            "Total params: 583,602\n",
            "Trainable params: 583,602\n",
            "Non-trainable params: 0\n",
            "_________________________________________________________________\n",
            "None\n"
          ],
          "name": "stdout"
        }
      ]
    },
    {
      "cell_type": "code",
      "metadata": {
        "id": "btaaSRkCeG9Y",
        "colab_type": "code",
        "colab": {
          "base_uri": "https://localhost:8080/",
          "height": 416
        },
        "outputId": "3b3e4caa-2c67-47a8-a937-04fa2cfe6345"
      },
      "source": [
        "model.fit(X_train, y_train, nb_epoch=10, batch_size=64)\n"
      ],
      "execution_count": 55,
      "outputs": [
        {
          "output_type": "stream",
          "text": [
            "/usr/local/lib/python3.6/dist-packages/ipykernel_launcher.py:1: UserWarning: The `nb_epoch` argument in `fit` has been renamed `epochs`.\n",
            "  \"\"\"Entry point for launching an IPython kernel.\n"
          ],
          "name": "stderr"
        },
        {
          "output_type": "stream",
          "text": [
            "Epoch 1/10\n",
            "3/3 [==============================] - 2s 733ms/step - loss: 0.6969 - acc: 0.0000e+00\n",
            "Epoch 2/10\n",
            "3/3 [==============================] - 0s 23ms/step - loss: 0.6835 - acc: 0.6667\n",
            "Epoch 3/10\n",
            "3/3 [==============================] - 0s 21ms/step - loss: 0.6665 - acc: 0.6667\n",
            "Epoch 4/10\n",
            "3/3 [==============================] - 0s 22ms/step - loss: 0.6533 - acc: 0.6667\n",
            "Epoch 5/10\n",
            "3/3 [==============================] - 0s 21ms/step - loss: 0.6321 - acc: 1.0000\n",
            "Epoch 6/10\n",
            "3/3 [==============================] - 0s 21ms/step - loss: 0.6129 - acc: 1.0000\n",
            "Epoch 7/10\n",
            "3/3 [==============================] - 0s 22ms/step - loss: 0.5805 - acc: 1.0000\n",
            "Epoch 8/10\n",
            "3/3 [==============================] - 0s 22ms/step - loss: 0.5296 - acc: 1.0000\n",
            "Epoch 9/10\n",
            "3/3 [==============================] - 0s 22ms/step - loss: 0.4678 - acc: 1.0000\n",
            "Epoch 10/10\n",
            "3/3 [==============================] - 0s 22ms/step - loss: 0.3781 - acc: 1.0000\n"
          ],
          "name": "stdout"
        },
        {
          "output_type": "execute_result",
          "data": {
            "text/plain": [
              "<keras.callbacks.History at 0x7f4c7cb0a048>"
            ]
          },
          "metadata": {
            "tags": []
          },
          "execution_count": 55
        }
      ]
    },
    {
      "cell_type": "code",
      "metadata": {
        "id": "kc5uxGS5k4eT",
        "colab_type": "code",
        "colab": {}
      },
      "source": [
        ""
      ],
      "execution_count": 0,
      "outputs": []
    },
    {
      "cell_type": "code",
      "metadata": {
        "id": "Q_V-hokuk4eX",
        "colab_type": "code",
        "colab": {}
      },
      "source": [
        ""
      ],
      "execution_count": 0,
      "outputs": []
    },
    {
      "cell_type": "code",
      "metadata": {
        "id": "UzkPx-Bck4ei",
        "colab_type": "code",
        "colab": {}
      },
      "source": [
        ""
      ],
      "execution_count": 0,
      "outputs": []
    },
    {
      "cell_type": "code",
      "metadata": {
        "id": "IQxbUYluk4ep",
        "colab_type": "code",
        "colab": {}
      },
      "source": [
        ""
      ],
      "execution_count": 0,
      "outputs": []
    },
    {
      "cell_type": "code",
      "metadata": {
        "id": "I2-vc2BBk4es",
        "colab_type": "code",
        "colab": {}
      },
      "source": [
        ""
      ],
      "execution_count": 0,
      "outputs": []
    },
    {
      "cell_type": "code",
      "metadata": {
        "id": "mmNvEBrOk4ew",
        "colab_type": "code",
        "colab": {}
      },
      "source": [
        ""
      ],
      "execution_count": 0,
      "outputs": []
    },
    {
      "cell_type": "code",
      "metadata": {
        "id": "udPz2LVBk4e1",
        "colab_type": "code",
        "colab": {}
      },
      "source": [
        ""
      ],
      "execution_count": 0,
      "outputs": []
    },
    {
      "cell_type": "code",
      "metadata": {
        "id": "WDZkRRtPk4e5",
        "colab_type": "code",
        "colab": {}
      },
      "source": [
        "\n"
      ],
      "execution_count": 0,
      "outputs": []
    }
  ]
}
