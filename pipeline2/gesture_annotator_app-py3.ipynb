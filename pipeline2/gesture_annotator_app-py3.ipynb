{
 "cells": [
  {
   "cell_type": "code",
   "execution_count": 1,
   "metadata": {},
   "outputs": [],
   "source": [
    "import json\n",
    "import numpy as np\n",
    "import pandas as pd\n",
    "from pandas.io.json import json_normalize\n",
    "\n",
    "import seaborn as sns\n",
    "\n",
    "import matplotlib\n",
    "%matplotlib inline\n",
    "from matplotlib import pyplot as plt\n",
    "\n",
    "import cv2\n",
    "from sklearn import metrics\n",
    "from sklearn.cluster import KMeans\n",
    "from sklearn.datasets import load_digits\n",
    "from sklearn.decomposition import PCA\n",
    "from sklearn.preprocessing import scale\n",
    "\n",
    "import matplotlib.pyplot as plt\n",
    "from sklearn.preprocessing import StandardScaler\n",
    "from sklearn.manifold import TSNE\n",
    "\n",
    "import glob\n",
    "from natsort import natsorted, ns\n",
    "\n",
    "\n",
    "import ipywidgets as widgets\n",
    "from ipywidgets import interact, interact_manual, Image\n",
    "\n",
    "import csv\n",
    "import os\n",
    "#import psutil\n",
    "#print(psutil.virtual_memory())\n",
    "from bqplot import (\n",
    "    Axis, ColorAxis, LinearScale, DateScale, DateColorScale, OrdinalScale,\n",
    "    OrdinalColorScale, ColorScale, Scatter, Lines, Figure, Tooltip\n",
    ")\n",
    "from ipywidgets import Label\n",
    "from bqplot import *\n",
    "\n",
    "import bqplot as bqp\n",
    "from bqplot import pyplot as plt\n",
    "\n",
    "import bqplot.pyplot as plt\n",
    "import cv2\n",
    "import statistics \n",
    "import wget\n",
    "import random"
   ]
  },
  {
   "cell_type": "code",
   "execution_count": 2,
   "metadata": {},
   "outputs": [],
   "source": [
    "#url = 'http://127.0.0.1:8080/poses'\n",
    "#filename = wget.download(url,out='./api_json')\n",
    "#with open(filename) as file:\n",
    "#    document = json.load(file)\n",
    "#    print(document)\n",
    "\n",
    "#data = {}  \n",
    "#data['people'] = []  \n",
    "\n",
    "#data['people'].append(natsorted(list(natsorted(list(document[7]['pose'].items()))[0])[1])[0])\n"
   ]
  },
  {
   "cell_type": "code",
   "execution_count": null,
   "metadata": {},
   "outputs": [],
   "source": []
  },
  {
   "cell_type": "code",
   "execution_count": 3,
   "metadata": {},
   "outputs": [
    {
     "data": {
      "text/plain": [
       "'\\npath_to_json = \\'./api_json/\\'\\njson_files = [pos_json for pos_json in os.listdir(path_to_json) if pos_json.endswith(\\'.json\\')]\\njson_arr2 = list()\\nfor json_file in json_files:\\n    json_file_path = os.path.join(path_to_json, json_file)\\n    with open(json_file_path, \"r\") as f:\\n        json_arr2.append(json.load(f))\\n'"
      ]
     },
     "execution_count": 3,
     "metadata": {},
     "output_type": "execute_result"
    }
   ],
   "source": [
    "'''\n",
    "path_to_json = './api_json/'\n",
    "json_files = [pos_json for pos_json in os.listdir(path_to_json) if pos_json.endswith('.json')]\n",
    "json_arr2 = list()\n",
    "for json_file in json_files:\n",
    "    json_file_path = os.path.join(path_to_json, json_file)\n",
    "    with open(json_file_path, \"r\") as f:\n",
    "        json_arr2.append(json.load(f))\n",
    "'''"
   ]
  },
  {
   "cell_type": "code",
   "execution_count": 4,
   "metadata": {},
   "outputs": [],
   "source": [
    "#print('Loading the json file......please wait it may take some time depending on size of file')\n",
    "#folder_path = './wga_json'\n",
    "#json_arr2 = []\n",
    "#for i in range(2):\n",
    "#    try:\n",
    "#        with open('./wga_json/' + str(i) + '.json') as f2:\n",
    "#            d2 = json.load(f2)\n",
    "#            json_arr2.append(d2)\n",
    "#            \n",
    "#    except IOError:\n",
    "#        print('file ' +''+ str(i) + '.json'+ '' + ' not'+ '' + ' found')\n",
    "#print('LOaded')"
   ]
  },
  {
   "cell_type": "code",
   "execution_count": null,
   "metadata": {
    "scrolled": true
   },
   "outputs": [],
   "source": []
  },
  {
   "cell_type": "code",
   "execution_count": 5,
   "metadata": {
    "scrolled": true
   },
   "outputs": [],
   "source": [
    "#json_arr2[1]['people'][1]"
   ]
  },
  {
   "cell_type": "code",
   "execution_count": 6,
   "metadata": {},
   "outputs": [
    {
     "data": {
      "text/plain": [
       "'\\nprint(\\'sorting the json files in natural way!\\')\\nfrom natsort import natsorted, ns\\n# This is the path where all the files are stored.\\njson_path2 = \\'./api_json\\'\\n# Open one of the files,\\nlst2 = []\\nfor data_file2 in os.listdir(json_path2):\\n    lst2.append(data_file2)\\n    print(data_file2)\\njson_file2 = lst2\\nprint(\".......\")\\nprint(json_file2)\\nlen(json_file2)\\n'"
      ]
     },
     "execution_count": 6,
     "metadata": {},
     "output_type": "execute_result"
    }
   ],
   "source": [
    "'''\n",
    "print('sorting the json files in natural way!')\n",
    "from natsort import natsorted, ns\n",
    "# This is the path where all the files are stored.\n",
    "json_path2 = './api_json'\n",
    "# Open one of the files,\n",
    "lst2 = []\n",
    "for data_file2 in os.listdir(json_path2):\n",
    "    lst2.append(data_file2)\n",
    "    print(data_file2)\n",
    "json_file2 = lst2\n",
    "print(\".......\")\n",
    "print(json_file2)\n",
    "len(json_file2)\n",
    "'''"
   ]
  },
  {
   "cell_type": "code",
   "execution_count": 7,
   "metadata": {
    "scrolled": true
   },
   "outputs": [],
   "source": [
    "#len(json_arr2[3]['people'])"
   ]
  },
  {
   "cell_type": "code",
   "execution_count": 8,
   "metadata": {},
   "outputs": [
    {
     "data": {
      "text/plain": [
       "\"\\npeeps2 = []\\nfor j in range(0,len(json_arr2)):\\n    peeps2.append(len(natsorted(json_arr2)[j]['people']))\\nprint('collection the number poses of from different json files completed!')\\n\""
      ]
     },
     "execution_count": 8,
     "metadata": {},
     "output_type": "execute_result"
    }
   ],
   "source": [
    "'''\n",
    "peeps2 = []\n",
    "for j in range(0,len(json_arr2)):\n",
    "    peeps2.append(len(natsorted(json_arr2)[j]['people']))\n",
    "print('collection the number poses of from different json files completed!')\n",
    "'''"
   ]
  },
  {
   "cell_type": "code",
   "execution_count": 9,
   "metadata": {},
   "outputs": [],
   "source": [
    "#peeps2"
   ]
  },
  {
   "cell_type": "code",
   "execution_count": 10,
   "metadata": {},
   "outputs": [
    {
     "data": {
      "text/plain": [
       "\"\\nprint('mapping the json file and no of pose!')\\n#lets connect the number of peeps,json file name and arr[] i.e keypoints\\nmapped2 = zip(json_file2, peeps2)\\n# converting values to print as set \\nmapped2 = set(mapped2) \\njson_to_peeps2 = list(mapped2)\\njson_to_peeps2 = natsorted(json_to_peeps2)\\n#json_to_peeps2\\n\""
      ]
     },
     "execution_count": 10,
     "metadata": {},
     "output_type": "execute_result"
    }
   ],
   "source": [
    "'''\n",
    "print('mapping the json file and no of pose!')\n",
    "#lets connect the number of peeps,json file name and arr[] i.e keypoints\n",
    "mapped2 = zip(json_file2, peeps2)\n",
    "# converting values to print as set \n",
    "mapped2 = set(mapped2) \n",
    "json_to_peeps2 = list(mapped2)\n",
    "json_to_peeps2 = natsorted(json_to_peeps2)\n",
    "#json_to_peeps2\n",
    "'''"
   ]
  },
  {
   "cell_type": "code",
   "execution_count": 11,
   "metadata": {},
   "outputs": [],
   "source": [
    "#json_to_peeps2"
   ]
  },
  {
   "cell_type": "code",
   "execution_count": 12,
   "metadata": {},
   "outputs": [],
   "source": [
    "#break the json file into pieces\n",
    "#len(json_to_peeps2)"
   ]
  },
  {
   "cell_type": "code",
   "execution_count": 13,
   "metadata": {
    "scrolled": false
   },
   "outputs": [
    {
     "data": {
      "text/plain": [
       "\"\\nwith open('./api_json/' + json_to_peeps2[5][0]) as file:\\n    single_pose = json.load(file)\\n    print(single_pose['people'][json_to_peeps2[5][1] -3])\\n#print(len(document))\\n\""
      ]
     },
     "execution_count": 13,
     "metadata": {},
     "output_type": "execute_result"
    }
   ],
   "source": [
    "'''\n",
    "with open('./api_json/' + json_to_peeps2[5][0]) as file:\n",
    "    single_pose = json.load(file)\n",
    "    print(single_pose['people'][json_to_peeps2[5][1] -3])\n",
    "#print(len(document))\n",
    "'''"
   ]
  },
  {
   "cell_type": "code",
   "execution_count": 14,
   "metadata": {
    "scrolled": true
   },
   "outputs": [
    {
     "data": {
      "text/plain": [
       "'\\nfor j in range(len(json_to_peeps2)):\\n\\n    for i in range(json_to_peeps2[j][1]):\\n\\n        with open(\\'./api_json/\\' + json_to_peeps2[j][0]) as file:\\n            single_pose = json.load(file)\\n            print(single_pose[\\'people\\'][i])\\n        #print(len(document))\\n\\n        data ={\\n            \"version\":1.3,\\n            \"people\":single_pose[\\'people\\'][i],\\n            \"file\":str(single_pose[\\'file\\']),\\n            \"id\":str(random.randint(1,101)*7)\\n\\n        }\\n\\n        with open(\\'./json_single_pose/\\' + single_pose[\\'file\\'] +str(i) + \\'.json\\', \\'w\\') as outfile:\\n            json.dump(data, outfile)\\n'"
      ]
     },
     "execution_count": 14,
     "metadata": {},
     "output_type": "execute_result"
    }
   ],
   "source": [
    "'''\n",
    "for j in range(len(json_to_peeps2)):\n",
    "\n",
    "    for i in range(json_to_peeps2[j][1]):\n",
    "\n",
    "        with open('./api_json/' + json_to_peeps2[j][0]) as file:\n",
    "            single_pose = json.load(file)\n",
    "            print(single_pose['people'][i])\n",
    "        #print(len(document))\n",
    "\n",
    "        data ={\n",
    "            \"version\":1.3,\n",
    "            \"people\":single_pose['people'][i],\n",
    "            \"file\":str(single_pose['file']),\n",
    "            \"id\":str(random.randint(1,101)*7)\n",
    "\n",
    "        }\n",
    "\n",
    "        with open('./json_single_pose/' + single_pose['file'] +str(i) + '.json', 'w') as outfile:\n",
    "            json.dump(data, outfile)\n",
    "'''"
   ]
  },
  {
   "cell_type": "code",
   "execution_count": 15,
   "metadata": {},
   "outputs": [],
   "source": [
    "#reading the newly formed json file in the app\n"
   ]
  },
  {
   "cell_type": "code",
   "execution_count": 16,
   "metadata": {},
   "outputs": [],
   "source": [
    "\n",
    "path_to_json = './json_single_pose/'\n",
    "json_files = [pos_json for pos_json in os.listdir(path_to_json) if pos_json.endswith('.json')]\n",
    "json_arr2 = list()\n",
    "for json_file in json_files:\n",
    "    json_file_path = os.path.join(path_to_json, json_file)\n",
    "    with open(json_file_path, \"r\") as f:\n",
    "        json_arr2.append(json.load(f))\n"
   ]
  },
  {
   "cell_type": "code",
   "execution_count": null,
   "metadata": {
    "scrolled": true
   },
   "outputs": [],
   "source": []
  },
  {
   "cell_type": "code",
   "execution_count": 17,
   "metadata": {},
   "outputs": [
    {
     "name": "stdout",
     "output_type": "stream",
     "text": [
      "sorting the json files in natural way!\n",
      "womancup_keypoints1.json\n",
      "allegor2_keypoints0.json\n",
      "womancup_keypoints0.json\n",
      "allegor2_keypoints1.json\n",
      "gerard_keypoints0.json\n",
      "allegor2_keypoints2.json\n",
      "06sumeg3_keypoints0.json\n",
      ".......\n",
      "['womancup_keypoints1.json', 'allegor2_keypoints0.json', 'womancup_keypoints0.json', 'allegor2_keypoints1.json', 'gerard_keypoints0.json', 'allegor2_keypoints2.json', '06sumeg3_keypoints0.json']\n"
     ]
    },
    {
     "data": {
      "text/plain": [
       "7"
      ]
     },
     "execution_count": 17,
     "metadata": {},
     "output_type": "execute_result"
    }
   ],
   "source": [
    "\n",
    "print('sorting the json files in natural way!')\n",
    "from natsort import natsorted, ns\n",
    "# This is the path where all the files are stored.\n",
    "json_path2 = './json_single_pose'\n",
    "# Open one of the files,\n",
    "lst2 = []\n",
    "for data_file2 in os.listdir(json_path2):\n",
    "    lst2.append(data_file2)\n",
    "    print(data_file2)\n",
    "json_file2 = lst2\n",
    "print(\".......\")\n",
    "print(json_file2)\n",
    "len(json_file2)"
   ]
  },
  {
   "cell_type": "code",
   "execution_count": 18,
   "metadata": {},
   "outputs": [],
   "source": [
    "#json_file2"
   ]
  },
  {
   "cell_type": "code",
   "execution_count": 19,
   "metadata": {},
   "outputs": [],
   "source": [
    "peeps2 = [1]*15\n",
    "#for j in range(0,len(json_arr2)):\n",
    "#    peeps2.append(len(natsorted(json_arr2)[j]['people']))\n",
    "#    print(len(natsorted(json_arr2)))\n",
    "#print('collection the number poses of from different json files completed!')\n"
   ]
  },
  {
   "cell_type": "code",
   "execution_count": 20,
   "metadata": {},
   "outputs": [],
   "source": [
    "#peeps2"
   ]
  },
  {
   "cell_type": "code",
   "execution_count": 21,
   "metadata": {},
   "outputs": [
    {
     "name": "stdout",
     "output_type": "stream",
     "text": [
      "mapping the json file and no of pose!\n"
     ]
    }
   ],
   "source": [
    "\n",
    "\n",
    "\n",
    "\n",
    "\n",
    "\n",
    "\n",
    "\n",
    "\n",
    "\n",
    "\n",
    "\n",
    "print('mapping the json file and no of pose!')\n",
    "#lets connect the number of peeps,json file name and arr[] i.e keypoints\n",
    "mapped2 = zip(json_file2, peeps2)\n",
    "# converting values to print as set \n",
    "mapped2 = set(mapped2) \n",
    "json_to_peeps2 = list(mapped2)\n",
    "json_to_peeps2 = natsorted(json_to_peeps2)\n",
    "#json_to_peeps2"
   ]
  },
  {
   "cell_type": "code",
   "execution_count": 22,
   "metadata": {},
   "outputs": [],
   "source": [
    "#json_to_peeps2"
   ]
  },
  {
   "cell_type": "code",
   "execution_count": null,
   "metadata": {},
   "outputs": [],
   "source": []
  },
  {
   "cell_type": "code",
   "execution_count": null,
   "metadata": {},
   "outputs": [],
   "source": []
  },
  {
   "cell_type": "code",
   "execution_count": null,
   "metadata": {},
   "outputs": [],
   "source": []
  },
  {
   "cell_type": "code",
   "execution_count": 23,
   "metadata": {
    "scrolled": true
   },
   "outputs": [
    {
     "name": "stdout",
     "output_type": "stream",
     "text": [
      "0\n",
      "0    [410.761, 575.752, 0.910381, 385.988, 640.99, ...\n",
      "Name: pose_keypoints_2d, dtype: object\n",
      "1\n",
      "0    [509.173, 542.371, 0.960786, 515.876, 601.634,...\n",
      "Name: pose_keypoints_2d, dtype: object\n",
      "2\n",
      "0    [435.978, 454.46, 0.923924, 507.22, 485.671, 0...\n",
      "Name: pose_keypoints_2d, dtype: object\n",
      "3\n",
      "0    [548.758, 433.315, 0.906866, 614.773, 502.592,...\n",
      "Name: pose_keypoints_2d, dtype: object\n",
      "4\n",
      "0    [378.694, 199.579, 0.918605, 380.948, 270.383,...\n",
      "Name: pose_keypoints_2d, dtype: object\n",
      "5\n",
      "0    [317.64, 330.874, 0.900443, 310.948, 413.487, ...\n",
      "Name: pose_keypoints_2d, dtype: object\n",
      "6\n",
      "0    [539.816, 467.779, 0.842866, 539.941, 511.669,...\n",
      "Name: pose_keypoints_2d, dtype: object\n"
     ]
    }
   ],
   "source": [
    "\n",
    "arr = []\n",
    "for j in range(0,len(json_arr2)):\n",
    "    try:\n",
    "        keypt = json_normalize(json_arr2[j]['people'])\n",
    "        for i in range(len(keypt['pose_keypoints_2d'])):\n",
    "            arr.append(keypt['pose_keypoints_2d'][i])\n",
    "        print(j)\n",
    "        print(keypt['pose_keypoints_2d'])  \n",
    "    except KeyError as e:\n",
    "        print('I got a KeyError - reason \"%s\"' % str(e))"
   ]
  },
  {
   "cell_type": "code",
   "execution_count": null,
   "metadata": {},
   "outputs": [],
   "source": []
  },
  {
   "cell_type": "code",
   "execution_count": null,
   "metadata": {},
   "outputs": [],
   "source": []
  },
  {
   "cell_type": "code",
   "execution_count": null,
   "metadata": {
    "scrolled": true
   },
   "outputs": [],
   "source": []
  },
  {
   "cell_type": "code",
   "execution_count": 24,
   "metadata": {},
   "outputs": [],
   "source": [
    "#map a set of json file to the gesture keypoints\n",
    "ppl = []\n",
    "for i in range(len(json_to_peeps2)):\n",
    "    ppl.append(json_to_peeps2[i][1])\n",
    "    "
   ]
  },
  {
   "cell_type": "code",
   "execution_count": 25,
   "metadata": {},
   "outputs": [
    {
     "data": {
      "text/plain": [
       "[1, 1, 1, 1, 1, 1, 1]"
      ]
     },
     "execution_count": 25,
     "metadata": {},
     "output_type": "execute_result"
    }
   ],
   "source": [
    "ppl"
   ]
  },
  {
   "cell_type": "code",
   "execution_count": 26,
   "metadata": {},
   "outputs": [],
   "source": [
    "\n",
    "#get the points\n",
    "POSE_PAIRS = [ [1,0],[1,2],[1,5],[2,3],[3,4],[5,6],[6,7],[1,8],[8,9],[9,10],[1,11],[11,12],[12,13],[0,14],[0,15],[14,16],[15,17]]\n",
    "#remove the confidence map\n",
    "point = []\n",
    "for j in range(len(arr)):\n",
    "    for i in range(0,53):\n",
    "        if i == 0 or i == 1 or i == 3 or i == 4 or i == 6 or i == 7 or i ==9 or i == 10 or i ==12 or i ==13 or i ==15 or i ==16 or i ==18 or i ==19 or i ==21 or i ==22 or i ==24 or i ==25 or i ==27 or i ==28 or i == 30 or i ==31 or i ==33 or i == 34 or i == 36 or i ==37 or i ==39 or i == 40 or i ==42 or i ==43  or i == 45 or i == 46 or i ==48 or i == 49 or i == 51 or i ==52:\n",
    "            point.append(arr[j][i])\n",
    " \n",
    "   "
   ]
  },
  {
   "cell_type": "code",
   "execution_count": 27,
   "metadata": {},
   "outputs": [],
   "source": [
    "pts = []\n",
    "for i in range(len(point)):\n",
    "    pts.append(int(point[i]))\n"
   ]
  },
  {
   "cell_type": "code",
   "execution_count": 28,
   "metadata": {},
   "outputs": [],
   "source": [
    "from itertools import islice \n",
    "def convert(lst, var_lst):\n",
    "    idx = 0\n",
    "    for var_len in var_lst: \n",
    "        yield lst[idx : idx + var_len] \n",
    "        idx += var_len \n",
    "\n",
    "# Driver code \n",
    "s = int(len(pts)/2)\n",
    "lst = pts\n",
    "var_lst = [2] * s\n",
    "#print(list(convert(lst, var_lst))) \n",
    "all_body_coordinates = list(convert(lst, var_lst))"
   ]
  },
  {
   "cell_type": "code",
   "execution_count": 29,
   "metadata": {},
   "outputs": [],
   "source": [
    "my_list = all_body_coordinates\n",
    "# Yield successive n-sized                   \n",
    "# chunks from l. \n",
    "def divide_chunks(l, n): \n",
    "                                                       # x -> single_body_set\n",
    "                                                           # points -> all_body_coordinates\n",
    "\n",
    "    for i in range(0, len(l), n): \n",
    "        yield l[i:i + n] \n",
    "\n"
   ]
  },
  {
   "cell_type": "code",
   "execution_count": 30,
   "metadata": {},
   "outputs": [],
   "source": [
    "points36 = list(divide_chunks(pts, 36)) \n"
   ]
  },
  {
   "cell_type": "code",
   "execution_count": 31,
   "metadata": {},
   "outputs": [],
   "source": [
    "#adding the file name of the json in the array of keypoints.\n",
    "for i in range(len(json_file2)):\n",
    "    points36[i].append(json_file2[i])"
   ]
  },
  {
   "cell_type": "code",
   "execution_count": 32,
   "metadata": {
    "scrolled": true
   },
   "outputs": [
    {
     "data": {
      "text/plain": [
       "'womancup_keypoints1'"
      ]
     },
     "execution_count": 32,
     "metadata": {},
     "output_type": "execute_result"
    }
   ],
   "source": [
    "points36[0][-1].split('.')[0]"
   ]
  },
  {
   "cell_type": "code",
   "execution_count": 33,
   "metadata": {},
   "outputs": [],
   "source": [
    "def remove_zero(n,Boolean):\n",
    "    if Boolean == True:\n",
    "        \n",
    "        for j in range(n):\n",
    "            for i in range(36):\n",
    "                if points36[j][i] == 0:\n",
    "                    points36[j][i]  =  statistics.stdev(points36[j])\n",
    "\n",
    "#json_file2"
   ]
  },
  {
   "cell_type": "code",
   "execution_count": 34,
   "metadata": {},
   "outputs": [],
   "source": [
    "def select_json(j):\n",
    "    x_data = []\n",
    "    y_data = []\n",
    "    for i in range(36):\n",
    "        if i%2 == 0:\n",
    "            x_data.append(points36[j][i])\n",
    "        else:\n",
    "            y_data.append(points36[j][i])\n",
    "    X = x_data\n",
    "    Y = y_data\n",
    "    \n",
    "    return X,Y,points36[j][-1]\n",
    "#interact_manua,points36[j][-1]"
   ]
  },
  {
   "cell_type": "code",
   "execution_count": 35,
   "metadata": {
    "scrolled": false
   },
   "outputs": [
    {
     "data": {
      "text/plain": [
       "0"
      ]
     },
     "execution_count": 35,
     "metadata": {},
     "output_type": "execute_result"
    }
   ],
   "source": [
    "#function to select the pose mapped with the() image\n",
    "word = 'allegor2_keypoints0'\n",
    "word.find('') "
   ]
  },
  {
   "cell_type": "code",
   "execution_count": 36,
   "metadata": {},
   "outputs": [
    {
     "data": {
      "text/plain": [
       "['womancup_keypoints1.json',\n",
       " 'allegor2_keypoints0.json',\n",
       " 'womancup_keypoints0.json',\n",
       " 'allegor2_keypoints1.json',\n",
       " 'gerard_keypoints0.json',\n",
       " 'allegor2_keypoints2.json',\n",
       " '06sumeg3_keypoints0.json']"
      ]
     },
     "execution_count": 36,
     "metadata": {},
     "output_type": "execute_result"
    }
   ],
   "source": [
    "json_file2"
   ]
  },
  {
   "cell_type": "code",
   "execution_count": 37,
   "metadata": {
    "scrolled": true
   },
   "outputs": [
    {
     "data": {
      "text/plain": [
       "'womancup_keypoints0'"
      ]
     },
     "execution_count": 37,
     "metadata": {},
     "output_type": "execute_result"
    }
   ],
   "source": [
    "select_json(2)[2].split('.')[0]"
   ]
  },
  {
   "cell_type": "code",
   "execution_count": 38,
   "metadata": {},
   "outputs": [],
   "source": [
    "#f = '06sumeg3_keypoints0.json'\n",
    "#t ='06sumeg3.jpg'\n",
    "#f.find(l)"
   ]
  },
  {
   "cell_type": "code",
   "execution_count": 39,
   "metadata": {},
   "outputs": [],
   "source": [
    "#l = t.split('.')[0]"
   ]
  },
  {
   "cell_type": "code",
   "execution_count": 40,
   "metadata": {},
   "outputs": [],
   "source": [
    "import math \n",
    "  \n",
    "# Function to calculate distance \n",
    "def distance(x1 , y1 , x2 , y2): \n",
    "  \n",
    "    # Calculating distance \n",
    "    return math.sqrt(math.pow(x2 - x1, 2) +\n",
    "                math.pow(y2 - y1, 2) * 1.0) \n",
    "  "
   ]
  },
  {
   "cell_type": "code",
   "execution_count": 41,
   "metadata": {},
   "outputs": [],
   "source": [
    "from bqplot.interacts import BrushIntervalSelector\n",
    "from bqplot.interacts import BrushSelector\n",
    "\n",
    "sc_x = LinearScale()\n",
    "sc_y = LinearScale(reverse=True)\n",
    "\n",
    "ax_x = Axis(scale=sc_x)\n",
    "ax_y = Axis(scale=sc_y, tick_format='0.2f', orientation='vertical')\n",
    "\n",
    "#plt.figure(title='My human Plot')\n",
    "\n",
    "def_tt_left_leg = Tooltip(fields=['x', 'y'], formats=['', '.2f'])\n",
    "def_tt_rt_leg = Tooltip(fields=['x', 'y'], formats=['', '.2f'])\n",
    "def_tt_left_hand = Tooltip(fields=['x', 'y'], formats=['', '.2f'])\n",
    "def_tt_rt_hand = Tooltip(fields=['x', 'y'], formats=['', '.2f'])\n",
    "def_tt_left_head_ = Tooltip(fields=['x', 'y'], formats=['', '.2f'])\n",
    "def_tt_rt_head = Tooltip(fields=['x', 'y'], formats=['', '.2f'])"
   ]
  },
  {
   "cell_type": "code",
   "execution_count": 42,
   "metadata": {},
   "outputs": [],
   "source": [
    "j =4\n",
    "#select_json(j)[0][13]"
   ]
  },
  {
   "cell_type": "code",
   "execution_count": 43,
   "metadata": {},
   "outputs": [],
   "source": [
    "#select_json(j)[1][13]"
   ]
  },
  {
   "cell_type": "code",
   "execution_count": 44,
   "metadata": {},
   "outputs": [],
   "source": [
    "def pose_emulation(file_name,j):\n",
    "    image_path = os.path.abspath('./images/' + file_name)\n",
    "\n",
    "    img = cv2.imread(image_path, cv2.IMREAD_UNCHANGED)\n",
    " \n",
    "    # get dimensions of image\n",
    "    dimensions = img.shape\n",
    " \n",
    "    #height, width, number of channels in image\n",
    "    height = img.shape[0]\n",
    "    width = img.shape[1] \n",
    "    sc_x = LinearScale(min = 0,max = width)\n",
    "    sc_y = LinearScale(reverse=True,min = 0,max = height)\n",
    "\n",
    "    ax_x = Axis(scale=sc_x)\n",
    "    ax_y = Axis(scale=sc_y, tick_format='0.2f', orientation='vertical')\n",
    "    \n",
    "    global pose_index\n",
    "    pose_index = []\n",
    "    \n",
    "    for k in range(len(json_file2)):\n",
    "        s = select_json(k)[2].split('.')[0]\n",
    "        l = file_name.split('.')[0]\n",
    "        if(s.find(l) != -1):\n",
    "            print(k)\n",
    "            pose_index.append(k)\n",
    "            \n",
    "    x_data = select_json(j)[0]\n",
    "    y_data = select_json(j)[1]\n",
    "    left_hand_x = [x_data[3],x_data[4]]\n",
    "    left_hand_y = [y_data[3],y_data[4]]\n",
    "\n",
    "    rt_hand_x = [x_data[6],x_data[7]]\n",
    "    rt_hand_y = [y_data[6],y_data[7]]\n",
    "\n",
    "    left_leg_x = [x_data[9],x_data[10]]\n",
    "    left_leg_y = [y_data[9],y_data[10]]\n",
    "\n",
    "    rt_leg_x = [x_data[12],x_data[13]]\n",
    "    rt_leg_y = [y_data[12],y_data[13]]\n",
    "\n",
    "    left_head_x = [x_data[0],x_data[14],x_data[16]]\n",
    "    left_head_y = [y_data[0],y_data[14],y_data[16]]\n",
    "\n",
    "    rt_head_x = [x_data[17]]\n",
    "    rt_head_y = [y_data[17]]\n",
    "    d_size = 120\n",
    "    #pose = plt.figure()\n",
    "    global lin2\n",
    "    global lin\n",
    "    global lin3\n",
    "    global lin4\n",
    "    global lin5\n",
    "    global lin6\n",
    "    global lin3_4\n",
    "    global lin6_7\n",
    "    global lin9_10\n",
    "    global lin12_13\n",
    "    global lin1_16\n",
    "    global lin0_17\n",
    "    global joint2\n",
    "    global joint5\n",
    "    global joint8\n",
    "    global joint11\n",
    "    global joint1\n",
    "    global joint15\n",
    "    global left_hand\n",
    "    global rt_hand\n",
    "    global left_leg\n",
    "    global rt_leg\n",
    "    global left_head\n",
    "    global rt_head\n",
    "\n",
    "    lin2 = Lines(x=[x_data[2],x_data[5],x_data[11],x_data[8],x_data[2]], y=[y_data[2],y_data[5],y_data[11],y_data[8],y_data[2]], scales={'x': sc_x, 'y': sc_y}, line_style='solid', colors=['red'])\n",
    "    joint2 = Scatter(x=[x_data[2]], y=[y_data[2]], scales={'x': sc_x, 'y': sc_y}, colors=['orange'],tooltip=def_tt_left_hand, unhovered_style={'opacity': 0.5},\n",
    "                   enable_move=False,default_size=d_size,apply_clip = True,update_on_move = True)#\n",
    "\n",
    "    joint5 = Scatter(x=[x_data[5]], y=[y_data[5]], scales={'x': sc_x, 'y': sc_y}, colors=['orange'],tooltip=def_tt_left_hand, unhovered_style={'opacity': 0.5},\n",
    "                   enable_move=False,default_size=d_size,apply_clip = True,update_on_move = True)#\n",
    "\n",
    "    joint8 = Scatter(x=[x_data[8]], y=[y_data[8]], scales={'x': sc_x, 'y': sc_y}, colors=['orange'],tooltip=def_tt_left_hand, unhovered_style={'opacity': 0.5},\n",
    "                   enable_move=False,default_size=d_size,apply_clip = True,update_on_move = True)#\n",
    "\n",
    "    joint11 = Scatter(x=[x_data[11]], y=[y_data[11]], scales={'x': sc_x, 'y': sc_y}, colors=['orange'],tooltip=def_tt_left_hand, unhovered_style={'opacity': 0.5},\n",
    "                   enable_move=False,default_size=d_size,apply_clip = True,update_on_move = True)#\n",
    "\n",
    "    joint1 = Scatter(x=[x_data[1]], y=[y_data[1]], scales={'x': sc_x, 'y': sc_y}, colors=['orange'],tooltip=def_tt_left_hand, unhovered_style={'opacity': 0.5},\n",
    "                   enable_move=False,default_size=d_size,apply_clip = True,update_on_move = True)#\n",
    "\n",
    "    joint15 = Scatter(x=[x_data[15]], y=[y_data[15]], scales={'x': sc_x, 'y': sc_y}, colors=['orange'],tooltip=def_tt_left_hand, unhovered_style={'opacity': 0.5},\n",
    "                   enable_move=True,default_size=d_size,apply_clip = True,update_on_move = True)\n",
    "\n",
    "\n",
    "    left_hand = Scatter(x=left_hand_x, y=left_hand_y, scales={'x': sc_x, 'y': sc_y}, colors=['orange'],tooltip=def_tt_left_hand, unhovered_style={'opacity': 0.5},\n",
    "                   enable_move=True,default_size=d_size,apply_clip = True,update_on_move = True)\n",
    "\n",
    "    rt_hand = Scatter(x=rt_hand_x, y=rt_hand_y, scales={'x': sc_x, 'y': sc_y}, colors=['orange'],tooltip=def_tt_left_hand, unhovered_style={'opacity': 0.5},\n",
    "                   enable_move=True,default_size=d_size,apply_clip = True,update_on_move = True)\n",
    "\n",
    "    left_leg = Scatter(x=left_leg_x, y=left_leg_y, scales={'x': sc_x, 'y': sc_y}, colors=['orange'],tooltip=def_tt_left_hand, unhovered_style={'opacity': 0.5},\n",
    "                   enable_move=True,default_size=d_size,apply_clip = True,update_on_move = True)\n",
    "\n",
    "    rt_leg = Scatter(x=rt_leg_x, y=rt_leg_y, scales={'x': sc_x, 'y': sc_y}, colors=['orange'],tooltip=def_tt_left_hand, unhovered_style={'opacity': 0.5},\n",
    "                   enable_move=True,default_size=d_size,apply_clip = True,update_on_move = True)\n",
    "\n",
    "    left_head = Scatter(x=left_head_x, y=left_head_y, scales={'x': sc_x, 'y': sc_y}, colors=['orange'],tooltip=def_tt_left_hand, unhovered_style={'opacity': 0.5},\n",
    "                   enable_move=True,default_size=d_size,apply_clip = True,update_on_move = True)\n",
    "\n",
    "    rt_head = Scatter(x=rt_head_x, y=rt_head_y, scales={'x': sc_x, 'y': sc_y}, colors=['orange'],tooltip=def_tt_left_hand, unhovered_style={'opacity': 0.5},\n",
    "                   enable_move=True,default_size=d_size,apply_clip = True,update_on_move = True)\n",
    "\n",
    "    lin  = Lines(x=[], y=[], scales={'x': sc_x, 'y': sc_y}, line_style='solid', colors=['blue']) #left_hand\n",
    "    lin3 = Lines(x=[], y=[], scales={'x': sc_x, 'y': sc_y}, line_style='solid', colors=['blue']) #rt_hand\n",
    "    lin4 = Lines(x=[], y=[], scales={'x': sc_x, 'y': sc_y}, line_style='solid', colors=['blue'])#left_leg\n",
    "    lin5 = Lines(x=[], y=[], scales={'x': sc_x, 'y': sc_y}, line_style='solid', colors=['blue'])#rt_leg\n",
    "    lin6 = Lines(x=[], y=[], scales={'x': sc_x, 'y': sc_y}, line_style='solid', colors=['blue'])#left_head\n",
    "    lin3_4   = Lines(x=[], y=[], scales={'x': sc_x, 'y': sc_y}, line_style='solid', colors=['blue'])#left_hand\n",
    "    lin6_7   = Lines(x=[], y=[], scales={'x': sc_x, 'y': sc_y}, line_style='solid', colors=['blue'])#rt_hand\n",
    "    lin9_10  = Lines(x=[], y=[], scales={'x': sc_x, 'y': sc_y}, line_style='solid', colors=['blue'])#left_leg\n",
    "    lin12_13 = Lines(x=[], y=[], scales={'x': sc_x, 'y': sc_y}, line_style='solid', colors=['blue'])#rt_leg\n",
    "    lin1_16  = Lines(x=[], y=[], scales={'x': sc_x, 'y': sc_y}, line_style='solid', colors=['blue'])#left_head\n",
    "    lin0_17  = Lines(x=[], y=[], scales={'x': sc_x, 'y': sc_y}, line_style='solid', colors=['blue'])\n",
    "\n",
    "\n",
    "    def update_line(change=None):#this function connects fixed joint and middle joint of left hand\n",
    "        with lin.hold_sync():\n",
    "            state_value_x = []\n",
    "            state_value_y = []\n",
    "\n",
    "            state_value_x.append(joint2.get_state().get('x').get('values')[0])\n",
    "\n",
    "            state_value_x.append(left_hand.get_state().get('x').get('values')[0])\n",
    "\n",
    "            lin.x = state_value_x\n",
    "            state_value_y.append(joint2.get_state().get('y').get('values')[0])\n",
    "\n",
    "            state_value_y.append(left_hand.get_state().get('y').get('values')[0])\n",
    "\n",
    "\n",
    "            lin.y = state_value_y\n",
    "            \n",
    "            X1 = joint2.get_state().get('x').get('values')[0]\n",
    "            Y1 = joint2.get_state().get('y').get('values')[0]\n",
    "\n",
    "            X2 = select_json(j)[0][3]\n",
    "            Y2 = select_json(j)[1][3]\n",
    "            \n",
    "            X3 = left_hand.get_state().get('x').get('values')[0]\n",
    "            Y3 = left_hand.get_state().get('y').get('values')[0]\n",
    "            if (distance(X1,Y1,X2,Y2) - distance(X1,Y1,X3,Y3)) != 0:\n",
    "                \n",
    "                lin.colors = ['green']\n",
    "            \n",
    "           \n",
    "           \n",
    "\n",
    "\n",
    "    def update_line2(change=None): #this function connects fixed joint and middle joint of rt hand\n",
    "        with lin3.hold_sync():\n",
    "            state_value_x = []\n",
    "            state_value_y = []\n",
    "\n",
    "            state_value_x.append(joint5.get_state().get('x').get('values')[0])\n",
    "\n",
    "            state_value_x.append(rt_hand.get_state().get('x').get('values')[0])\n",
    "\n",
    "            lin3.x = state_value_x\n",
    "            state_value_y.append(joint5.get_state().get('y').get('values')[0])\n",
    "\n",
    "            state_value_y.append(rt_hand.get_state().get('y').get('values')[0])\n",
    "\n",
    "\n",
    "            lin3.y = state_value_y\n",
    "            \n",
    "            X1 = joint5.get_state().get('x').get('values')[0]\n",
    "            Y1 = joint5.get_state().get('y').get('values')[0]\n",
    "\n",
    "            X2 = select_json(j)[0][6]\n",
    "            Y2 = select_json(j)[1][6]\n",
    "            \n",
    "            X3 = rt_hand.get_state().get('x').get('values')[0]\n",
    "            Y3 = rt_hand.get_state().get('y').get('values')[0]\n",
    "            if (distance(X1,Y1,X2,Y2) - distance(X1,Y1,X3,Y3)) != 0:\n",
    "                \n",
    "                lin3.colors = ['green']\n",
    "            \n",
    "           \n",
    "\n",
    "    def update_line3(change=None): #this function connects fixed joint and middle joint of left_leg\n",
    "        with lin4.hold_sync():\n",
    "            state_value_x = []\n",
    "            state_value_y = []\n",
    "\n",
    "            state_value_x.append(joint8.get_state().get('x').get('values')[0])\n",
    "\n",
    "            state_value_x.append(left_leg.get_state().get('x').get('values')[0])\n",
    "\n",
    "            lin4.x = state_value_x\n",
    "            state_value_y.append(joint8.get_state().get('y').get('values')[0])\n",
    "\n",
    "            state_value_y.append(left_leg.get_state().get('y').get('values')[0])\n",
    "\n",
    "\n",
    "            lin4.y = state_value_y\n",
    "            \n",
    "            X1 = joint8.get_state().get('x').get('values')[0]\n",
    "            Y1 = joint8.get_state().get('y').get('values')[0]\n",
    "\n",
    "            X2 = select_json(j)[0][9]\n",
    "            Y2 = select_json(j)[1][9]\n",
    "            \n",
    "            X3 = left_leg.get_state().get('x').get('values')[0]\n",
    "            Y3 = left_leg.get_state().get('y').get('values')[0]\n",
    "            if (distance(X1,Y1,X2,Y2) - distance(X1,Y1,X3,Y3)) != 0:\n",
    "                \n",
    "                lin4.colors = ['green']\n",
    "            \n",
    "            \n",
    "           \n",
    "    def update_line4(change=None): #this function connects fixed joint and middle joint of rt leg\n",
    "        with lin5.hold_sync():\n",
    "            state_value_x = []\n",
    "            state_value_y = []\n",
    "\n",
    "            state_value_x.append(joint11.get_state().get('x').get('values')[0])\n",
    "\n",
    "            state_value_x.append(rt_leg.get_state().get('x').get('values')[0])\n",
    "\n",
    "            lin5.x = state_value_x\n",
    "            state_value_y.append(joint11.get_state().get('y').get('values')[0])\n",
    "\n",
    "            state_value_y.append(rt_leg.get_state().get('y').get('values')[0])\n",
    "\n",
    "\n",
    "            lin5.y = state_value_y\n",
    "            \n",
    "            X1 = joint11.get_state().get('x').get('values')[0]\n",
    "            Y1 = joint11.get_state().get('y').get('values')[0]\n",
    "\n",
    "            X2 = select_json(j)[0][12]\n",
    "            Y2 = select_json(j)[1][12]\n",
    "            \n",
    "            X3 = rt_leg.get_state().get('x').get('values')[0]\n",
    "            Y3 = rt_leg.get_state().get('y').get('values')[0]\n",
    "            if (distance(X1,Y1,X2,Y2) - distance(X1,Y1,X3,Y3)) != 0:\n",
    "                \n",
    "                lin5.colors = ['green']\n",
    "            \n",
    "            \n",
    "           \n",
    "\n",
    "    def update_line5(change=None): \n",
    "        with lin6.hold_sync():\n",
    "            state_value_x = []\n",
    "            state_value_y = []\n",
    "\n",
    "            state_value_x.append(joint1.get_state().get('x').get('values')[0])\n",
    "\n",
    "            state_value_x.append(left_head.get_state().get('x').get('values')[0])\n",
    "\n",
    "            lin6.x = state_value_x\n",
    "            state_value_y.append(joint1.get_state().get('y').get('values')[0])\n",
    "\n",
    "            state_value_y.append(left_head.get_state().get('y').get('values')[0])\n",
    "\n",
    "\n",
    "            lin6.y = state_value_y\n",
    "            \n",
    "            X1 = joint1.get_state().get('x').get('values')[0]\n",
    "            Y1 = joint1.get_state().get('y').get('values')[0]\n",
    "\n",
    "            X2 = select_json(j)[0][0]\n",
    "            Y2 = select_json(j)[1][0]\n",
    "            \n",
    "            X3 = left_head.get_state().get('x').get('values')[0]\n",
    "            Y3 = left_head.get_state().get('y').get('values')[0]\n",
    "            if (distance(X1,Y1,X2,Y2) - distance(X1,Y1,X3,Y3)) != 0:\n",
    "                \n",
    "                lin6.colors = ['green']\n",
    "            \n",
    "            \n",
    "            \n",
    "            \n",
    "           \n",
    "\n",
    "\n",
    "\n",
    "    def left_arm(change=None):\n",
    "        with lin3_4.hold_sync():\n",
    "            state34_value_x = []\n",
    "            state34_value_y = []\n",
    "\n",
    "            state34_value_x.append(left_hand.get_state().get('x').get('values')[1])\n",
    "\n",
    "            state34_value_x.append(lin.get_state().get('x').get('values')[1])\n",
    "            lin3_4.x = state34_value_x\n",
    "\n",
    "            state34_value_y.append(left_hand.get_state().get('y').get('values')[1])\n",
    "            state34_value_y.append(lin.get_state().get('y').get('values')[1])\n",
    "            lin3_4.y = state34_value_y\n",
    "            \n",
    "            X1 = lin.get_state().get('x').get('values')[1]\n",
    "            Y1 = lin.get_state().get('y').get('values')[1]\n",
    "\n",
    "            X2 = select_json(j)[0][4]\n",
    "            Y2 = select_json(j)[1][4]\n",
    "            \n",
    "            X3 = left_hand.get_state().get('x').get('values')[1]\n",
    "            Y3 = left_hand.get_state().get('y').get('values')[1]\n",
    "            if (distance(X1,Y1,X2,Y2) - distance(X1,Y1,X3,Y3)) != 0:\n",
    "                \n",
    "                lin3_4.colors = ['green']\n",
    "            \n",
    "            \n",
    "            \n",
    "          \n",
    "\n",
    "\n",
    "    def rt_arm(change=None): #this functionconnects middle joint and last joint of rt hand\n",
    "        with lin6_7.hold_sync():\n",
    "            state67_value_x = []\n",
    "            state67_value_y = []\n",
    "\n",
    "            state67_value_x.append(rt_hand.get_state().get('x').get('values')[1])\n",
    "\n",
    "            state67_value_x.append(lin3.get_state().get('x').get('values')[1])\n",
    "            lin6_7.x = state67_value_x\n",
    "\n",
    "            state67_value_y.append(rt_hand.get_state().get('y').get('values')[1])\n",
    "            state67_value_y.append(lin3.get_state().get('y').get('values')[1])\n",
    "            lin6_7.y = state67_value_y\n",
    "            \n",
    "            X1 = lin3.get_state().get('x').get('values')[1]\n",
    "            Y1 = lin3.get_state().get('y').get('values')[1]\n",
    "\n",
    "            X2 = select_json(j)[0][7]\n",
    "            Y2 = select_json(j)[1][7]\n",
    "            \n",
    "            X3 = rt_hand.get_state().get('x').get('values')[1]\n",
    "            Y3 = rt_hand.get_state().get('y').get('values')[1]\n",
    "            if (distance(X1,Y1,X2,Y2) - distance(X1,Y1,X3,Y3)) != 0:\n",
    "                \n",
    "                lin6_7.colors = ['green']\n",
    "            \n",
    "            \n",
    "           \n",
    "           \n",
    "\n",
    "\n",
    "    def left_Leg(change=None): #this functionconnects middle joint and last joint of left leg\n",
    "        with lin9_10.hold_sync():\n",
    "            state9_10_value_x = []\n",
    "            state9_10_value_y = []\n",
    "\n",
    "            state9_10_value_x.append(left_leg.get_state().get('x').get('values')[1])\n",
    "\n",
    "            state9_10_value_x.append(lin4.get_state().get('x').get('values')[1])\n",
    "            lin9_10.x = state9_10_value_x\n",
    "\n",
    "            state9_10_value_y.append(left_leg.get_state().get('y').get('values')[1])\n",
    "            state9_10_value_y.append(lin4.get_state().get('y').get('values')[1])\n",
    "            lin9_10.y = state9_10_value_y\n",
    "            \n",
    "            X1 = lin4.get_state().get('x').get('values')[1]\n",
    "            Y1 = lin4.get_state().get('y').get('values')[1]\n",
    "\n",
    "            X2 = select_json(j)[0][10]\n",
    "            Y2 = select_json(j)[1][10]\n",
    "            \n",
    "            X3 = left_leg.get_state().get('x').get('values')[1]\n",
    "            Y3 = left_leg.get_state().get('y').get('values')[1]\n",
    "            if (distance(X1,Y1,X2,Y2) - distance(X1,Y1,X3,Y3)) != 0:\n",
    "                \n",
    "                lin9_10.colors = ['green']\n",
    "            \n",
    "           \n",
    "\n",
    "\n",
    "    def rt_Leg(change=None): #this functionconnects middle joint and last joint of rt leg\n",
    "        with lin12_13.hold_sync():\n",
    "\n",
    "            state12_13_value_x = []\n",
    "            state12_13_value_y = []\n",
    "\n",
    "            #rt_leg.colors = ['green']\n",
    "\n",
    "            state12_13_value_x.append(rt_leg.get_state().get('x').get('values')[1])\n",
    "\n",
    "            state12_13_value_x.append(lin5.get_state().get('x').get('values')[1])\n",
    "            lin12_13.x = state12_13_value_x\n",
    "\n",
    "            state12_13_value_y.append(rt_leg.get_state().get('y').get('values')[1])\n",
    "            state12_13_value_y.append(lin5.get_state().get('y').get('values')[1])\n",
    "            lin12_13.y = state12_13_value_y\n",
    "            \n",
    "            X1 = lin5.get_state().get('x').get('values')[1]\n",
    "            Y1 = lin5.get_state().get('y').get('values')[1]\n",
    "\n",
    "            X2 = select_json(j)[0][13]\n",
    "            Y2 = select_json(j)[1][13]\n",
    "            \n",
    "            X3 = rt_leg.get_state().get('x').get('values')[1]\n",
    "            Y3 = rt_leg.get_state().get('y').get('values')[1]\n",
    "            if (distance(X1,Y1,X2,Y2) - distance(X1,Y1,X3,Y3)) != 0:\n",
    "                \n",
    "                lin12_13.colors = ['green']\n",
    "\n",
    "    def left_Head(change=None): \n",
    "        with lin1_16.hold_sync():\n",
    "            state1_16_value_x = []\n",
    "            state1_16_value_y = []\n",
    "            \n",
    "            #left_head.colors = ['green']\n",
    "            state1_16_value_x.append(lin6.get_state().get('x').get('values')[1])\n",
    "\n",
    "            state1_16_value_x.append(left_head.get_state().get('x').get('values')[1])\n",
    "\n",
    "            state1_16_value_x.append(left_head.get_state().get('x').get('values')[2])\n",
    "\n",
    "\n",
    "            lin1_16.x = state1_16_value_x\n",
    "            state1_16_value_y.append(lin6.get_state().get('y').get('values')[1])\n",
    "\n",
    "            state1_16_value_y.append(left_head.get_state().get('y').get('values')[1])\n",
    "            state1_16_value_y.append(left_head.get_state().get('y').get('values')[2])\n",
    "\n",
    "\n",
    "            lin1_16.y = state1_16_value_y\n",
    "            \n",
    "            X1 = lin6.get_state().get('x').get('values')[1]\n",
    "            Y1 = lin6.get_state().get('y').get('values')[1]\n",
    "\n",
    "\n",
    "            X2 = select_json(j)[0][14]\n",
    "            Y2 = select_json(j)[1][14]\n",
    "            \n",
    "            X3 = left_head.get_state().get('x').get('values')[1]\n",
    "            Y3 = left_head.get_state().get('y').get('values')[1]\n",
    "            if (distance(X1,Y1,X2,Y2) - distance(X1,Y1,X3,Y3)) != 0:\n",
    "                \n",
    "                lin1_16.colors = ['green']\n",
    "                \n",
    "\n",
    "\n",
    "    def rt_Head(change=None): \n",
    "        with lin0_17.hold_sync():\n",
    "            state0_17_value_x = []\n",
    "            state0_17_value_y = []\n",
    "            state0_17_value_x.append(left_head.get_state().get('x').get('values')[0])\n",
    "\n",
    "            state0_17_value_x.append(rt_head.get_state().get('x').get('values')[0])\n",
    "            state0_17_value_x.append(joint15.get_state().get('x').get('values')[0])\n",
    "\n",
    "\n",
    "\n",
    "            lin0_17.x = state0_17_value_x\n",
    "\n",
    "            state0_17_value_y.append(left_head.get_state().get('y').get('values')[0])\n",
    "\n",
    "            state0_17_value_y.append(rt_head.get_state().get('y').get('values')[0])\n",
    "            state0_17_value_y.append(joint15.get_state().get('y').get('values')[0])\n",
    "\n",
    "\n",
    "            lin0_17.y = state0_17_value_y\n",
    "            \n",
    "            X1 = left_head.get_state().get('x').get('values')[0]\n",
    "            Y1 = left_head.get_state().get('y').get('values')[0]\n",
    "\n",
    "\n",
    "\n",
    "            X2 = select_json(j)[0][17]\n",
    "            Y2 = select_json(j)[1][17]\n",
    "            \n",
    "            X3 = rt_head.get_state().get('x').get('values')[0]\n",
    "\n",
    "            Y3 = rt_head.get_state().get('y').get('values')[0]\n",
    "\n",
    "            if (distance(X1,Y1,X2,Y2) - distance(X1,Y1,X3,Y3)) != 0:\n",
    "                \n",
    "                lin0_17.colors = ['green']\n",
    "                \n",
    "\n",
    "    update_line()\n",
    "    left_arm()\n",
    "\n",
    "    update_line2()\n",
    "    rt_arm()\n",
    "\n",
    "\n",
    "    update_line3()\n",
    "    left_Leg()\n",
    "\n",
    "\n",
    "    update_line4()\n",
    "    rt_Leg()\n",
    "\n",
    "\n",
    "    update_line5()\n",
    "    left_Head()\n",
    "\n",
    "    rt_Head()\n",
    "\n",
    "    rt_head.observe(rt_Head,names=['x','y'])\n",
    "\n",
    "    left_hand.observe(left_arm,names=['x','y'])\n",
    "    left_hand.observe(update_line, names=['x','y'])\n",
    "\n",
    "    rt_hand.observe(rt_arm,names=['x','y'])\n",
    "    rt_hand.observe(update_line2, names=['x','y'])\n",
    "\n",
    "    left_leg.observe(left_Leg,names=['x','y'])\n",
    "    left_leg.observe(update_line3, names=['x','y'])\n",
    "\n",
    "    rt_leg.observe(rt_Leg,names=['x','y'])\n",
    "    rt_leg.observe(update_line4, names=['x','y'])\n",
    "\n",
    "    left_head.observe(left_Head,names=['x','y'])\n",
    "    left_head.observe(update_line5, names=['x','y'])\n",
    "\n",
    "    with open(image_path, 'rb') as f:\n",
    "        raw_image = f.read()\n",
    "    ipyimage = widgets.Image(value=raw_image, format='jpg')\n",
    "    im = plt.imshow(ipyimage, format='widget')\n",
    "\n",
    "    marks =[im,lin,lin2,lin3,lin4,lin5,lin6,left_hand,rt_hand,left_leg,rt_leg,left_head,rt_head,joint2,joint5,joint8,joint11,joint1,joint15,lin12_13,lin3_4,lin6_7,lin9_10,lin1_16,lin0_17]\n",
    "\n",
    "\n",
    "    brush_selector = BrushSelector(x_scale = sc_x, y_scale = sc_y, marks = marks, color = 'green')\n",
    "\n",
    "\n",
    "    im = plt.imshow(ipyimage, format='widget')\n",
    "    marks =[im,lin,lin2,lin3,lin4,lin5,lin6,left_hand,rt_hand,left_leg,rt_leg,left_head,rt_head,joint2,joint5,joint8,joint11,joint1,joint15,lin12_13,lin3_4,lin6_7,lin9_10,lin1_16,lin0_17]\n",
    "\n",
    "    fig = Figure(marks=marks)\n",
    "\n",
    "    return fig\n",
    "    "
   ]
  },
  {
   "cell_type": "code",
   "execution_count": 45,
   "metadata": {},
   "outputs": [
    {
     "data": {
      "text/plain": [
       "\"\\ndef file_number(fn):\\n    num = fn.split('.')[0]\\n    min_val = sum(ppl[:int(num)])\\n    max_value = sum(ppl[int(num)+1:int(num)+2]) + sum(ppl[:int(num)])\\n    \\n\\n    return min_val,max_value\\n\""
      ]
     },
     "execution_count": 45,
     "metadata": {},
     "output_type": "execute_result"
    }
   ],
   "source": [
    "'''\n",
    "def file_number(fn):\n",
    "    num = fn.split('.')[0]\n",
    "    min_val = sum(ppl[:int(num)])\n",
    "    max_value = sum(ppl[int(num)+1:int(num)+2]) + sum(ppl[:int(num)])\n",
    "    \n",
    "\n",
    "    return min_val,max_value\n",
    "'''"
   ]
  },
  {
   "cell_type": "code",
   "execution_count": 46,
   "metadata": {},
   "outputs": [
    {
     "data": {
      "text/plain": [
       "'\\ndef select_json(j):\\n    x_data = []\\n    y_data = []\\n    for i in range(36):\\n        if i%2 == 0:\\n            x_data.append(points36[j][i])\\n        else:\\n            y_data.append(points36[j][i])\\n    X = x_data\\n    Y = y_data\\n    \\n    return X,Y\\n'"
      ]
     },
     "execution_count": 46,
     "metadata": {},
     "output_type": "execute_result"
    }
   ],
   "source": [
    "'''\n",
    "def select_json(j):\n",
    "    x_data = []\n",
    "    y_data = []\n",
    "    for i in range(36):\n",
    "        if i%2 == 0:\n",
    "            x_data.append(points36[j][i])\n",
    "        else:\n",
    "            y_data.append(points36[j][i])\n",
    "    X = x_data\n",
    "    Y = y_data\n",
    "    \n",
    "    return X,Y\n",
    "'''\n",
    "#interact_manual(select_json,j=widgets.IntSlider(min=1,max=len(points36),step=1,value=1),);\n",
    "#interact_manual(pose_emulation,file_name =widgets.Dropdown(options=natsorted(os.listdir(fdir)),value='2.jpg',description='file:',disabled=False,) ,j=  widgets.IntSlider(min= 0,max=200,step=1,value=1,description = \"pose_number\"),);\n"
   ]
  },
  {
   "cell_type": "code",
   "execution_count": null,
   "metadata": {},
   "outputs": [],
   "source": []
  },
  {
   "cell_type": "code",
   "execution_count": 47,
   "metadata": {},
   "outputs": [],
   "source": [
    "def makejsondir(jsonfile):\n",
    "  try:\n",
    "    \n",
    "    os.makedirs(jsonfile)\n",
    "  except OSError:\n",
    "    pass\n",
    " # os.chdir(jsonfile)"
   ]
  },
  {
   "cell_type": "code",
   "execution_count": 48,
   "metadata": {},
   "outputs": [],
   "source": [
    "def get_keys():\n",
    "    global new_keys \n",
    "    new_keys = []\n",
    "    new_keys.append(natsorted(list(natsorted(list(lin1_16.get_state().items()))[36][1].items()))[1][1][0])\n",
    "    new_keys.append(natsorted(list(natsorted(list(lin1_16.get_state().items()))[37][1].items()))[1][1][0])\n",
    "    new_keys.append(natsorted(list(natsorted(list(joint1.get_state().items()))[48][1].items()))[1][1][0])\n",
    "    new_keys.append(natsorted(list(natsorted(list(joint1.get_state().items()))[49][1].items()))[1][1][0])\n",
    "    new_keys.append(natsorted(list(natsorted(list(joint2.get_state().items()))[48][1].items()))[1][1][0])\n",
    "    new_keys.append(natsorted(list(natsorted(list(joint2.get_state().items()))[49][1].items()))[1][1][0])\n",
    "    new_keys.append(natsorted(list(natsorted(list(lin3_4.get_state().items()))[36][1].items()))[1][1][1])   \n",
    "    new_keys.append(natsorted(list(natsorted(list(lin3_4.get_state().items()))[37][1].items()))[1][1][1])\n",
    "    new_keys.append(natsorted(list(natsorted(list(lin3_4.get_state().items()))[36][1].items()))[1][1][0])\n",
    "    new_keys.append(natsorted(list(natsorted(list(lin3_4.get_state().items()))[37][1].items()))[1][1][0])\n",
    "    new_keys.append(natsorted(list(natsorted(list(joint5.get_state().items()))[48][1].items()))[1][1][0])\n",
    "    new_keys.append(natsorted(list(natsorted(list(joint5.get_state().items()))[49][1].items()))[1][1][0])\n",
    "    new_keys.append(natsorted(list(natsorted(list(lin6_7.get_state().items()))[36][1].items()))[1][1][1])  \n",
    "    new_keys.append(natsorted(list(natsorted(list(lin6_7.get_state().items()))[37][1].items()))[1][1][1])\n",
    "    new_keys.append(natsorted(list(natsorted(list(lin6_7.get_state().items()))[36][1].items()))[1][1][0])\n",
    "    new_keys.append(natsorted(list(natsorted(list(lin6_7.get_state().items()))[37][1].items()))[1][1][0])\n",
    "    new_keys.append(natsorted(list(natsorted(list(joint8.get_state().items()))[48][1].items()))[1][1][0])\n",
    "    new_keys.append(natsorted(list(natsorted(list(joint8.get_state().items()))[49][1].items()))[1][1][0])\n",
    "    new_keys.append(natsorted(list(natsorted(list(left_leg.get_state().items()))[48][1].items()))[1][1][0])\n",
    "    new_keys.append(natsorted(list(natsorted(list(left_leg.get_state().items()))[49][1].items()))[1][1][0])\n",
    "    new_keys.append(natsorted(list(natsorted(list(lin9_10.get_state().items()))[36][1].items()))[1][1][0])   \n",
    "    new_keys.append(natsorted(list(natsorted(list(lin9_10.get_state().items()))[37][1].items()))[1][1][0])\n",
    "    new_keys.append(natsorted(list(natsorted(list(joint11.get_state().items()))[48][1].items()))[1][1][0])\n",
    "    new_keys.append(natsorted(list(natsorted(list(joint1.get_state().items()))[49][1].items()))[1][1][0])\n",
    "    new_keys.append(natsorted(list(natsorted(list(rt_leg.get_state().items()))[48][1].items()))[1][1][0])                     \n",
    "    new_keys.append(natsorted(list(natsorted(list(rt_leg.get_state().items()))[49][1].items()))[1][1][0])\n",
    "    new_keys.append(natsorted(list(natsorted(list(lin12_13.get_state().items()))[36][1].items()))[1][1][0])    \n",
    "    new_keys.append(natsorted(list(natsorted(list(lin12_13.get_state().items()))[37][1].items()))[1][1][0])\n",
    "    new_keys.append(natsorted(list(natsorted(list(left_head.get_state().items()))[48][1].items()))[1][1][1])                    \n",
    "    new_keys.append(natsorted(list(natsorted(list(left_head.get_state().items()))[49][1].items()))[1][1][1])\n",
    "    new_keys.append(natsorted(list(natsorted(list(rt_head.get_state().items()))[48][1].items()))[1][1][0])\n",
    "    new_keys.append(natsorted(list(natsorted(list(rt_head.get_state().items()))[49][1].items()))[1][1][0])\n",
    "    new_keys.append(natsorted(list(natsorted(list(left_head.get_state().items()))[48][1].items()))[1][1][2])\n",
    "    new_keys.append(natsorted(list(natsorted(list(left_head.get_state().items()))[49][1].items()))[1][1][2])\n",
    "    new_keys.append(natsorted(list(natsorted(list(joint15.get_state().items()))[48][1].items()))[1][1][0])\n",
    "    new_keys.append(natsorted(list(natsorted(list(joint15.get_state().items()))[49][1].items()))[1][1][0])\n",
    "    return new_keys"
   ]
  },
  {
   "cell_type": "code",
   "execution_count": 49,
   "metadata": {},
   "outputs": [],
   "source": [
    "def save_json(posename):\n",
    "    get_keys()\n",
    "    data = {}  \n",
    "    data['people'] = []  \n",
    "    data['people'].append({  \n",
    "        'pose_keypoints_2d': new_keys,\n",
    "\n",
    "    })\n",
    "    \n",
    "    makejsondir('./jsondumps')\n",
    "    with open('./jsondumps/' + str(posename) + '.json', 'w') as outfile:  \n",
    "        json.dump(data, outfile)\n"
   ]
  },
  {
   "cell_type": "code",
   "execution_count": 50,
   "metadata": {
    "scrolled": false
   },
   "outputs": [],
   "source": [
    "fdir = './images'\n",
    "\n",
    "#interact_manual(remove_zero,n = widgets.IntSlider(value=0,min=0, max=len(points36),step=1,description='Remove zero',disabled=False,\n",
    "#    continuous_update=False, orientation='horizontal',readout=True,  readout_format='d'\n",
    "#) , Boolean = widgets.Checkbox(\n",
    "#    value=True,\n",
    "#    description='want to remove zeroes?',\n",
    "#    disabled=False\n",
    "#)  );                   \n",
    "    \n",
    "#interact(file_number,fn = widgets.Dropdown(\n",
    "#    options=natsorted(os.listdir(fdir)),\n",
    "#    value='Restorations_07.jpg',\n",
    "#    description='pose_range:',\n",
    "#    disabled=False,));\n",
    "\n"
   ]
  },
  {
   "cell_type": "code",
   "execution_count": 66,
   "metadata": {
    "scrolled": false
   },
   "outputs": [
    {
     "data": {
      "application/vnd.jupyter.widget-view+json": {
       "model_id": "a0abe49521164c60ac9e6c50f33a9422",
       "version_major": 2,
       "version_minor": 0
      },
      "text/plain": [
       "interactive(children=(Dropdown(description='file:', index=2, options=('06sumeg3.jpg', 'allegor2.jpg', 'gerard.…"
      ]
     },
     "metadata": {},
     "output_type": "display_data"
    }
   ],
   "source": [
    "s = interact(pose_emulation,\n",
    "    file_name =widgets.Dropdown(options=natsorted(os.listdir(fdir)),value=os.listdir(fdir)[0],\n",
    "    description='file:',disabled=False,),\n",
    "j = widgets.BoundedIntText(value=4,min=0,max=14,step=1,description='POSE NO:',disabled=False,),);\n"
   ]
  },
  {
   "cell_type": "code",
   "execution_count": 52,
   "metadata": {},
   "outputs": [],
   "source": [
    "#s = interact(pose_emulation,\n",
    "#    file_name =widgets.Dropdown(options=natsorted(os.listdir(fdir)),value=os.listdir(fdir)[0],\n",
    "#    description='file:',disabled=False,),\n",
    "#j = widgets.Dropdown(\n",
    "#    options=pose_index,\n",
    "#    value=pose_index[0],\n",
    "#    description='pose:',\n",
    "#    disabled=False,\n",
    "#));\n"
   ]
  },
  {
   "cell_type": "code",
   "execution_count": 53,
   "metadata": {},
   "outputs": [
    {
     "data": {
      "text/plain": [
       "414"
      ]
     },
     "execution_count": 53,
     "metadata": {},
     "output_type": "execute_result"
    }
   ],
   "source": [
    "j =4\n",
    "#select_json(j)[0][0]\n",
    "select_json(4)[0][17]"
   ]
  },
  {
   "cell_type": "code",
   "execution_count": 54,
   "metadata": {},
   "outputs": [
    {
     "data": {
      "text/plain": [
       "378.0"
      ]
     },
     "execution_count": 54,
     "metadata": {},
     "output_type": "execute_result"
    }
   ],
   "source": [
    "lin6.get_state().get('x').get('values')[1]\n"
   ]
  },
  {
   "cell_type": "code",
   "execution_count": 55,
   "metadata": {},
   "outputs": [
    {
     "data": {
      "text/plain": [
       "363.0"
      ]
     },
     "execution_count": 55,
     "metadata": {},
     "output_type": "execute_result"
    }
   ],
   "source": [
    "left_head.get_state().get('x').get('values')[1]"
   ]
  },
  {
   "cell_type": "code",
   "execution_count": 56,
   "metadata": {},
   "outputs": [
    {
     "data": {
      "text/plain": [
       "345.0"
      ]
     },
     "execution_count": 56,
     "metadata": {},
     "output_type": "execute_result"
    }
   ],
   "source": [
    "left_head.get_state().get('x').get('values')[2]"
   ]
  },
  {
   "cell_type": "code",
   "execution_count": 57,
   "metadata": {},
   "outputs": [
    {
     "data": {
      "text/plain": [
       "184.0"
      ]
     },
     "execution_count": 57,
     "metadata": {},
     "output_type": "execute_result"
    }
   ],
   "source": [
    "left_head.get_state().get('y').get('values')[1]"
   ]
  },
  {
   "cell_type": "code",
   "execution_count": 58,
   "metadata": {},
   "outputs": [
    {
     "data": {
      "text/plain": [
       "378.0"
      ]
     },
     "execution_count": 58,
     "metadata": {},
     "output_type": "execute_result"
    }
   ],
   "source": [
    "left_head.get_state().get('x').get('values')[0]\n"
   ]
  },
  {
   "cell_type": "code",
   "execution_count": 59,
   "metadata": {},
   "outputs": [
    {
     "data": {
      "text/plain": [
       "199.0"
      ]
     },
     "execution_count": 59,
     "metadata": {},
     "output_type": "execute_result"
    }
   ],
   "source": [
    "left_head.get_state().get('y').get('values')[0]\n"
   ]
  },
  {
   "cell_type": "code",
   "execution_count": 60,
   "metadata": {},
   "outputs": [
    {
     "data": {
      "text/plain": [
       "414.0"
      ]
     },
     "execution_count": 60,
     "metadata": {},
     "output_type": "execute_result"
    }
   ],
   "source": [
    "rt_head.get_state().get('x').get('values')[0]\n"
   ]
  },
  {
   "cell_type": "code",
   "execution_count": 61,
   "metadata": {},
   "outputs": [
    {
     "data": {
      "text/plain": [
       "201.0"
      ]
     },
     "execution_count": 61,
     "metadata": {},
     "output_type": "execute_result"
    }
   ],
   "source": [
    "rt_head.get_state().get('y').get('values')[0]\n"
   ]
  },
  {
   "cell_type": "code",
   "execution_count": null,
   "metadata": {},
   "outputs": [],
   "source": []
  },
  {
   "cell_type": "code",
   "execution_count": 62,
   "metadata": {},
   "outputs": [
    {
     "data": {
      "text/plain": [
       "186.0"
      ]
     },
     "execution_count": 62,
     "metadata": {},
     "output_type": "execute_result"
    }
   ],
   "source": [
    "left_head.get_state().get('x').get('values')[0]\n",
    "\n",
    "rt_head.get_state().get('x').get('values')[0]\n",
    "joint15.get_state().get('x').get('values')[0]\n",
    "\n",
    "\n",
    "\n",
    "\n",
    "left_head.get_state().get('y').get('values')[0]\n",
    "\n",
    "rt_head.get_state().get('y').get('values')[0]\n",
    "joint15.get_state().get('y').get('values')[0]\n"
   ]
  },
  {
   "cell_type": "code",
   "execution_count": 63,
   "metadata": {},
   "outputs": [
    {
     "data": {
      "text/plain": [
       "199.0"
      ]
     },
     "execution_count": 63,
     "metadata": {},
     "output_type": "execute_result"
    }
   ],
   "source": [
    "lin6.get_state().get('y').get('values')[1]\n"
   ]
  },
  {
   "cell_type": "code",
   "execution_count": 64,
   "metadata": {},
   "outputs": [
    {
     "ename": "NameError",
     "evalue": "name 'state1_16_value_y' is not defined",
     "output_type": "error",
     "traceback": [
      "\u001b[0;31m---------------------------------------------------------------------------\u001b[0m",
      "\u001b[0;31mNameError\u001b[0m                                 Traceback (most recent call last)",
      "\u001b[0;32m<ipython-input-64-846100bd81c9>\u001b[0m in \u001b[0;36m<module>\u001b[0;34m\u001b[0m\n\u001b[0;32m----> 1\u001b[0;31m \u001b[0mstate1_16_value_y\u001b[0m\u001b[0;34m.\u001b[0m\u001b[0mappend\u001b[0m\u001b[0;34m(\u001b[0m\u001b[0mlin6\u001b[0m\u001b[0;34m.\u001b[0m\u001b[0mget_state\u001b[0m\u001b[0;34m(\u001b[0m\u001b[0;34m)\u001b[0m\u001b[0;34m.\u001b[0m\u001b[0mget\u001b[0m\u001b[0;34m(\u001b[0m\u001b[0;34m'y'\u001b[0m\u001b[0;34m)\u001b[0m\u001b[0;34m.\u001b[0m\u001b[0mget\u001b[0m\u001b[0;34m(\u001b[0m\u001b[0;34m'values'\u001b[0m\u001b[0;34m)\u001b[0m\u001b[0;34m[\u001b[0m\u001b[0;36m1\u001b[0m\u001b[0;34m]\u001b[0m\u001b[0;34m)\u001b[0m\u001b[0;34m\u001b[0m\u001b[0m\n\u001b[0m\u001b[1;32m      2\u001b[0m \u001b[0;34m\u001b[0m\u001b[0m\n\u001b[1;32m      3\u001b[0m \u001b[0mstate1_16_value_y\u001b[0m\u001b[0;34m.\u001b[0m\u001b[0mappend\u001b[0m\u001b[0;34m(\u001b[0m\u001b[0mleft_head\u001b[0m\u001b[0;34m.\u001b[0m\u001b[0mget_state\u001b[0m\u001b[0;34m(\u001b[0m\u001b[0;34m)\u001b[0m\u001b[0;34m.\u001b[0m\u001b[0mget\u001b[0m\u001b[0;34m(\u001b[0m\u001b[0;34m'y'\u001b[0m\u001b[0;34m)\u001b[0m\u001b[0;34m.\u001b[0m\u001b[0mget\u001b[0m\u001b[0;34m(\u001b[0m\u001b[0;34m'values'\u001b[0m\u001b[0;34m)\u001b[0m\u001b[0;34m[\u001b[0m\u001b[0;36m1\u001b[0m\u001b[0;34m]\u001b[0m\u001b[0;34m)\u001b[0m\u001b[0;34m\u001b[0m\u001b[0m\n\u001b[1;32m      4\u001b[0m \u001b[0mstate1_16_value_y\u001b[0m\u001b[0;34m.\u001b[0m\u001b[0mappend\u001b[0m\u001b[0;34m(\u001b[0m\u001b[0mleft_head\u001b[0m\u001b[0;34m.\u001b[0m\u001b[0mget_state\u001b[0m\u001b[0;34m(\u001b[0m\u001b[0;34m)\u001b[0m\u001b[0;34m.\u001b[0m\u001b[0mget\u001b[0m\u001b[0;34m(\u001b[0m\u001b[0;34m'y'\u001b[0m\u001b[0;34m)\u001b[0m\u001b[0;34m.\u001b[0m\u001b[0mget\u001b[0m\u001b[0;34m(\u001b[0m\u001b[0;34m'values'\u001b[0m\u001b[0;34m)\u001b[0m\u001b[0;34m[\u001b[0m\u001b[0;36m2\u001b[0m\u001b[0;34m]\u001b[0m\u001b[0;34m)\u001b[0m\u001b[0;34m\u001b[0m\u001b[0m\n",
      "\u001b[0;31mNameError\u001b[0m: name 'state1_16_value_y' is not defined"
     ]
    }
   ],
   "source": [
    "state1_16_value_y.append(lin6.get_state().get('y').get('values')[1])\n",
    "\n",
    "state1_16_value_y.append(left_head.get_state().get('y').get('values')[1])\n",
    "state1_16_value_y.append(left_head.get_state().get('y').get('values')[2])\n"
   ]
  },
  {
   "cell_type": "code",
   "execution_count": null,
   "metadata": {},
   "outputs": [],
   "source": [
    "\n",
    "\n",
    "#d_size=widgets.IntSlider(value=100,min=50, max=500,step=1, description='scattersize:',disabled=False, continuous_update=False,                 \n",
    "#                        orientation='horizontal', readout=True,readout_format='d',),\n",
    "#            x = widgets.ColorPicker(\n",
    "#                                concise=False,\n",
    "#                                description='joint color',\n",
    "#                                value='orange',\n",
    "#                                disabled=False\n",
    "#                            ), \n",
    "            \n",
    "#             y = widgets.ColorPicker(\n",
    "#                                concise=False,\n",
    "#                                description='line color',\n",
    "#                                value='blue',\n",
    "#                                disabled=False\n",
    "#                            ),   );    \n",
    "            \n",
    "           \n"
   ]
  },
  {
   "cell_type": "code",
   "execution_count": null,
   "metadata": {},
   "outputs": [],
   "source": [
    "interact_manual(save_json, posename = widgets.BoundedIntText(\n",
    "                                                    value=0,\n",
    "                                                    min=0,\n",
    "                                                    max=179,\n",
    "                                                    step=1,\n",
    "                                                    description='SAVE FILE:',\n",
    "                                                    disabled=False,));\n",
    "\n"
   ]
  },
  {
   "cell_type": "code",
   "execution_count": null,
   "metadata": {},
   "outputs": [],
   "source": []
  },
  {
   "cell_type": "code",
   "execution_count": null,
   "metadata": {},
   "outputs": [],
   "source": []
  },
  {
   "cell_type": "code",
   "execution_count": null,
   "metadata": {},
   "outputs": [],
   "source": [
    "natsorted(list(json_arr2[0].items()))[0]"
   ]
  },
  {
   "cell_type": "code",
   "execution_count": null,
   "metadata": {},
   "outputs": [],
   "source": [
    "#left_head.get_state()['colors'][0] = 'blue'"
   ]
  },
  {
   "cell_type": "code",
   "execution_count": null,
   "metadata": {},
   "outputs": [],
   "source": [
    "#left_head.get_state()['colors'][0]"
   ]
  },
  {
   "cell_type": "code",
   "execution_count": null,
   "metadata": {
    "scrolled": true
   },
   "outputs": [],
   "source": [
    "#left_head.get_state()\n"
   ]
  },
  {
   "cell_type": "code",
   "execution_count": null,
   "metadata": {},
   "outputs": [],
   "source": [
    "#left_head.colors = ['orange']"
   ]
  },
  {
   "cell_type": "code",
   "execution_count": null,
   "metadata": {},
   "outputs": [],
   "source": [
    "#left_head.colors "
   ]
  },
  {
   "cell_type": "code",
   "execution_count": null,
   "metadata": {},
   "outputs": [],
   "source": [
    "lin5.colors"
   ]
  },
  {
   "cell_type": "code",
   "execution_count": null,
   "metadata": {},
   "outputs": [],
   "source": []
  },
  {
   "cell_type": "code",
   "execution_count": null,
   "metadata": {},
   "outputs": [],
   "source": [
    "import math \n",
    "  \n",
    "# Function to calculate distance \n",
    "def distance(x1 , y1 , x2 , y2): \n",
    "  \n",
    "    # Calculating distance \n",
    "    return math.sqrt(math.pow(x2 - x1, 2) +\n",
    "                math.pow(y2 - y1, 2) * 1.0) \n",
    "  "
   ]
  },
  {
   "cell_type": "code",
   "execution_count": null,
   "metadata": {},
   "outputs": [],
   "source": []
  },
  {
   "cell_type": "code",
   "execution_count": null,
   "metadata": {},
   "outputs": [],
   "source": [
    "lin12_13.get_state().get('x').get('values')[0]"
   ]
  },
  {
   "cell_type": "code",
   "execution_count": null,
   "metadata": {
    "scrolled": true
   },
   "outputs": [],
   "source": [
    "rt_leg.get_state().get('x').get('values')[1]"
   ]
  },
  {
   "cell_type": "code",
   "execution_count": null,
   "metadata": {},
   "outputs": [],
   "source": [
    "lin12_13.y[1]"
   ]
  },
  {
   "cell_type": "code",
   "execution_count": null,
   "metadata": {},
   "outputs": [],
   "source": [
    "#lin1_16.get_state()"
   ]
  },
  {
   "cell_type": "code",
   "execution_count": null,
   "metadata": {
    "scrolled": true
   },
   "outputs": [],
   "source": [
    "lin5.get_state()"
   ]
  },
  {
   "cell_type": "code",
   "execution_count": null,
   "metadata": {},
   "outputs": [],
   "source": [
    "X1 = lin5.get_state().get('x').get('values')[1]\n",
    "Y1 = lin5.get_state().get('y').get('values')[1]\n",
    "\n",
    "X2 = rt_leg.get_state().get('x').get('values')[1]\n",
    "Y2 = rt_leg.get_state().get('y').get('values')[1]"
   ]
  },
  {
   "cell_type": "code",
   "execution_count": null,
   "metadata": {},
   "outputs": [],
   "source": [
    "rt_leg.get_state().get('y').get('values')[1]"
   ]
  },
  {
   "cell_type": "code",
   "execution_count": null,
   "metadata": {},
   "outputs": [],
   "source": [
    "X3 = \n",
    "Y3 = "
   ]
  },
  {
   "cell_type": "code",
   "execution_count": null,
   "metadata": {},
   "outputs": [],
   "source": []
  },
  {
   "cell_type": "code",
   "execution_count": null,
   "metadata": {},
   "outputs": [],
   "source": []
  },
  {
   "cell_type": "code",
   "execution_count": null,
   "metadata": {},
   "outputs": [],
   "source": []
  },
  {
   "cell_type": "code",
   "execution_count": null,
   "metadata": {},
   "outputs": [],
   "source": []
  },
  {
   "cell_type": "code",
   "execution_count": null,
   "metadata": {},
   "outputs": [],
   "source": []
  },
  {
   "cell_type": "code",
   "execution_count": null,
   "metadata": {},
   "outputs": [],
   "source": []
  },
  {
   "cell_type": "code",
   "execution_count": null,
   "metadata": {},
   "outputs": [],
   "source": []
  }
 ],
 "metadata": {
  "kernelspec": {
   "display_name": "Python 3",
   "language": "python",
   "name": "python3"
  },
  "language_info": {
   "codemirror_mode": {
    "name": "ipython",
    "version": 3
   },
   "file_extension": ".py",
   "mimetype": "text/x-python",
   "name": "python",
   "nbconvert_exporter": "python",
   "pygments_lexer": "ipython3",
   "version": "3.5.2"
  }
 },
 "nbformat": 4,
 "nbformat_minor": 2
}
